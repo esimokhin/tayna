{
 "cells": [
  {
   "cell_type": "markdown",
   "metadata": {},
   "source": [
    "# Защита персональных данных клиентов"
   ]
  },
  {
   "cell_type": "markdown",
   "metadata": {},
   "source": [
    "## **Описание проекта**"
   ]
  },
  {
   "cell_type": "markdown",
   "metadata": {},
   "source": [
    "### Постановка задачи"
   ]
  },
  {
   "cell_type": "markdown",
   "metadata": {},
   "source": [
    "Требуется  защитить данные клиентов страховой компании «Хоть потоп». Для чего требуется разработать метод преобразования данных, удовлетворяющий следующим условиям:\n",
    "- сложность восстановления персональной информации;\n",
    "- корректность его работы;\n",
    "- качество моделей машинного обучения, оцененное по метрике R2, на преобразованных данных не ухудшится."
   ]
  },
  {
   "cell_type": "markdown",
   "metadata": {},
   "source": [
    "### Описание данных"
   ]
  },
  {
   "cell_type": "markdown",
   "metadata": {},
   "source": [
    "**Признаки:** пол, возраст и зарплата застрахованного, количество членов его семьи.<br />\n",
    "**Целевой признак:** количество страховых выплат клиенту за последние 5 лет."
   ]
  },
  {
   "cell_type": "markdown",
   "metadata": {},
   "source": [
    "## **Подготовительные работы**"
   ]
  },
  {
   "cell_type": "markdown",
   "metadata": {},
   "source": [
    "### Импорт библиотек"
   ]
  },
  {
   "cell_type": "code",
   "execution_count": 1,
   "metadata": {},
   "outputs": [],
   "source": [
    "#!pip install -U scikit-learn\n",
    "#!pip install imbalanced-learn\n",
    "\n",
    "import warnings\n",
    "\n",
    "import matplotlib.pyplot as plt\n",
    "import numpy as np\n",
    "import pandas as pd\n",
    "import seaborn as sns\n",
    "\n",
    "from sklearn.linear_model import LinearRegression  #\n",
    "from sklearn.model_selection import train_test_split\n",
    "from sklearn.preprocessing import (\n",
    "    OneHotEncoder,\n",
    "    StandardScaler\n",
    ")\n",
    "\n",
    "%matplotlib notebook\n",
    "%matplotlib inline"
   ]
  },
  {
   "cell_type": "code",
   "execution_count": 2,
   "metadata": {},
   "outputs": [],
   "source": [
    "# Отключение warning\n",
    "warnings.filterwarnings('ignore')\n",
    "pd.options.mode.chained_assignment = None\n",
    "#Формат float\n",
    "pd.options.display.float_format = '{:,.2f}'.format\n",
    "# Сброс ограничений на число столбцов\n",
    "pd.options.display.max_columns = None\n"
   ]
  },
  {
   "cell_type": "markdown",
   "metadata": {},
   "source": [
    "### Информация о столбцах:"
   ]
  },
  {
   "cell_type": "code",
   "execution_count": 3,
   "metadata": {},
   "outputs": [],
   "source": [
    "data_name = 'Данные о клиентах'\n",
    "data_fields = {\n",
    "    'Пол':['Пол', False],\n",
    "    'Возраст':['Возраст', True],\n",
    "    'Зарплата':['Зарплата', True],\n",
    "    'Члены семьи':['Члены семьи', True],\n",
    "    'Страховые выплаты':['Страховые выплаты', True]\n",
    "}\n"
   ]
  },
  {
   "cell_type": "markdown",
   "metadata": {},
   "source": [
    "### Функция получения информации о столбце"
   ]
  },
  {
   "cell_type": "code",
   "execution_count": 4,
   "metadata": {},
   "outputs": [],
   "source": [
    "def col_reaper(ddf,param_name,plot_hist = True):\n",
    "    global data_fields\n",
    "    data_len = len(ddf)\n",
    "    param = ddf[param_name]\n",
    "    \n",
    "    #Определение имени столбца\n",
    "    if data_fields.get(param_name)[0] is not None:\n",
    "        field = data_fields.get(param_name)[0]\n",
    "    else:\n",
    "        field = ''\n",
    "        \n",
    "    #Описание данных\n",
    "    print('')\n",
    "    print('\\033[4m'+'Описание данных:'+ '\\033[0m')\n",
    "    print(param.describe(datetime_is_numeric=True))\n",
    "    typer = type(param[0])\n",
    "    print('\\033[4m' +  'Количество записей:' + '\\033[0m', sum(param.notna()), 'из', data_len)\n",
    "    if sum(param.isna()) >0:\n",
    "       print('\\033[4m' +  'Пропущено:' + '\\033[0m', sum(param.isna()))\n",
    "       print('')\n",
    "\n",
    "    #Построение гистограммы\n",
    "    print('\\033[4m'+'\\nТип:\\n' + '\\033[0m', typer)\n",
    "#    if plot_hist and not 'str' in str(typer):\n",
    "#        print('\\nГистограмма значений:')\n",
    "#        param.hist();\n",
    "    if plot_hist and not 'str' in str(typer):\n",
    "            print('\\033[4m'+'\\nГистограмма значений:'+ '\\033[0m')\n",
    "            param.plot(kind='hist',bins=20,figsize=(12,5), grid = True)\n",
    "            plt.title(field)\n",
    "            #plt.xlabel('Населенные пункты') \n",
    "            plt.ylabel('Количество записей')\n",
    "            plt.xticks(rotation=0)\n",
    "            plt.show()\n",
    "            \n",
    "    else:\n",
    "        if len(param.unique())<=40:\n",
    "            #param_index = param.reset_index()\n",
    "            print('\\033[4m'+'\\nРаспределение уникальных значений (первые 10 значений в порядке убывания):'+ '\\033[0m')\n",
    "            param_group=ddf.groupby(param_name).agg(cnt=(param_name,'count')).reset_index()\n",
    "            display(param_group.sort_values(by='cnt',ascending=False).reset_index(drop=True).head(10))\n",
    "            \n",
    "            print('\\033[4m'+'\\nГистограмма значений:'+ '\\033[0m')\n",
    "            param_group.plot(x=param_name, y='cnt', kind='bar',figsize=(12,5))\n",
    "            plt.title(field)\n",
    "            plt.xlabel('') \n",
    "            plt.ylabel('Количество записей')\n",
    "            if len(param.unique())<=20:\n",
    "                plt.xticks(rotation=0)\n",
    "            else:\n",
    "                plt.xticks(rotation=90)\n",
    "            plt.show()\n",
    "    print('')\n",
    "    "
   ]
  },
  {
   "cell_type": "markdown",
   "metadata": {},
   "source": [
    "### Функция получения информации о датафрейме"
   ]
  },
  {
   "cell_type": "code",
   "execution_count": 5,
   "metadata": {},
   "outputs": [],
   "source": [
    "def df_reaper(df, df_name ='', data_fields = {}):\n",
    "    #global data_fields\n",
    "    #global df_name\n",
    "    #global descript\n",
    "    \n",
    "    # Список столюцов для гистограмм, диаграмм, корелляции и т.п.\n",
    "    cols = df.columns\n",
    "    #print(data_fields)\n",
    "    true_cols = []\n",
    "    for col in cols:\n",
    "        #print(col,data_fields.get(col))\n",
    "        if data_fields.get(col)[1]:\n",
    "            true_cols.append(col)\n",
    "\n",
    "    print('\\033[1;4m' +  df_name + '\\033[0m \\n')   \n",
    "    print('\\033[1m' +  'Количество записей:' + '\\033[0m')   \n",
    "    df_len = len(df)\n",
    "    display(df_len)\n",
    "    print('')\n",
    "    \n",
    "    print('\\033[1m' +  'Первые 5 строк данных:' + '\\033[0m')   \n",
    "    display(df.head())\n",
    "    print('')\n",
    "    \n",
    "    print('\\033[1m' +  'Информация о датафрейме:' + '\\033[0m')\n",
    "    print('')\n",
    "    display(df.info())\n",
    "    \n",
    "    print('\\033[1m' +  'Дубликаты:' + '\\033[0m')\n",
    "    if df.duplicated().sum() > 0:\n",
    "        print ('Обнаружено дубликатов', df.duplicated().sum())\n",
    "    else:    \n",
    "        print ('Дубликатов не обнаружено')\n",
    "    print('')\n",
    "    \n",
    "    print('\\033[1m' +  'Описание данных в столбцах с числовыми значениями:' + '\\033[0m')\n",
    "    #display(describer(df[true_cols]))\n",
    "    display(df.describe().T)\n",
    "\n",
    "    print('\\033[1m' +  'Диаграмма рассеивания:' + '\\033[0m')\n",
    "    pd.plotting.scatter_matrix(df[true_cols], figsize=(16, 16)); \n",
    "    plt.show()\n",
    "    \n",
    "    print('\\033[1m' +  'Корелляция данных:' + '\\033[0m')\n",
    "#    display(df[true_cols].corr())\n",
    "    \n",
    "    plt.figure(figsize=(16, 6))\n",
    "    # define the mask to set the values in the upper triangle to True\n",
    "    mask = np.triu(np.ones_like(df[true_cols].corr(), dtype=np.bool))\n",
    "    heatmap = sns.heatmap(df[true_cols].corr(), mask=mask, vmin=-1, vmax=1, annot=True, cmap='BrBG')\n",
    "    #heatmap.set_title('Корелляция данных', fontdict={'fontsize':18}, pad=16);\n",
    "    plt.show()\n",
    "    \n",
    "    print('\\033[1m' +  'Столбцы:' + '\\033[0m \\n')\n",
    " #   cols = df.columns\n",
    "\n",
    "    for col in cols:\n",
    "        if data_fields.get(col)[0] is not None:\n",
    "            field = data_fields.get(col)[0]\n",
    "        else:\n",
    "            field = ''\n",
    "        print('\\033[1;3m' +  col + ' - ' + field + '\\033[0m')\n",
    "        plot_hist = data_fields.get(col)[1]\n",
    "        col_reaper(df,col,plot_hist)"
   ]
  },
  {
   "cell_type": "markdown",
   "metadata": {},
   "source": [
    "## **Загрузка данных**"
   ]
  },
  {
   "cell_type": "code",
   "execution_count": 6,
   "metadata": {},
   "outputs": [],
   "source": [
    "try:\n",
    "    data = pd.read_csv('datasets/insurance.csv')\n",
    "except:\n",
    "    data = pd.read_csv('/datasets/insurance.csv')"
   ]
  },
  {
   "cell_type": "markdown",
   "metadata": {},
   "source": [
    "### Анализ датасета"
   ]
  },
  {
   "cell_type": "code",
   "execution_count": 7,
   "metadata": {
    "scrolled": false
   },
   "outputs": [
    {
     "name": "stdout",
     "output_type": "stream",
     "text": [
      "\u001b[1;4m\u001b[0m \n",
      "\n",
      "\u001b[1mКоличество записей:\u001b[0m\n"
     ]
    },
    {
     "data": {
      "text/plain": [
       "5000"
      ]
     },
     "metadata": {},
     "output_type": "display_data"
    },
    {
     "name": "stdout",
     "output_type": "stream",
     "text": [
      "\n",
      "\u001b[1mПервые 5 строк данных:\u001b[0m\n"
     ]
    },
    {
     "data": {
      "text/html": [
       "<div>\n",
       "<style scoped>\n",
       "    .dataframe tbody tr th:only-of-type {\n",
       "        vertical-align: middle;\n",
       "    }\n",
       "\n",
       "    .dataframe tbody tr th {\n",
       "        vertical-align: top;\n",
       "    }\n",
       "\n",
       "    .dataframe thead th {\n",
       "        text-align: right;\n",
       "    }\n",
       "</style>\n",
       "<table border=\"1\" class=\"dataframe\">\n",
       "  <thead>\n",
       "    <tr style=\"text-align: right;\">\n",
       "      <th></th>\n",
       "      <th>Пол</th>\n",
       "      <th>Возраст</th>\n",
       "      <th>Зарплата</th>\n",
       "      <th>Члены семьи</th>\n",
       "      <th>Страховые выплаты</th>\n",
       "    </tr>\n",
       "  </thead>\n",
       "  <tbody>\n",
       "    <tr>\n",
       "      <th>0</th>\n",
       "      <td>1</td>\n",
       "      <td>41.00</td>\n",
       "      <td>49,600.00</td>\n",
       "      <td>1</td>\n",
       "      <td>0</td>\n",
       "    </tr>\n",
       "    <tr>\n",
       "      <th>1</th>\n",
       "      <td>0</td>\n",
       "      <td>46.00</td>\n",
       "      <td>38,000.00</td>\n",
       "      <td>1</td>\n",
       "      <td>1</td>\n",
       "    </tr>\n",
       "    <tr>\n",
       "      <th>2</th>\n",
       "      <td>0</td>\n",
       "      <td>29.00</td>\n",
       "      <td>21,000.00</td>\n",
       "      <td>0</td>\n",
       "      <td>0</td>\n",
       "    </tr>\n",
       "    <tr>\n",
       "      <th>3</th>\n",
       "      <td>0</td>\n",
       "      <td>21.00</td>\n",
       "      <td>41,700.00</td>\n",
       "      <td>2</td>\n",
       "      <td>0</td>\n",
       "    </tr>\n",
       "    <tr>\n",
       "      <th>4</th>\n",
       "      <td>1</td>\n",
       "      <td>28.00</td>\n",
       "      <td>26,100.00</td>\n",
       "      <td>0</td>\n",
       "      <td>0</td>\n",
       "    </tr>\n",
       "  </tbody>\n",
       "</table>\n",
       "</div>"
      ],
      "text/plain": [
       "   Пол  Возраст  Зарплата  Члены семьи  Страховые выплаты\n",
       "0    1    41.00 49,600.00            1                  0\n",
       "1    0    46.00 38,000.00            1                  1\n",
       "2    0    29.00 21,000.00            0                  0\n",
       "3    0    21.00 41,700.00            2                  0\n",
       "4    1    28.00 26,100.00            0                  0"
      ]
     },
     "metadata": {},
     "output_type": "display_data"
    },
    {
     "name": "stdout",
     "output_type": "stream",
     "text": [
      "\n",
      "\u001b[1mИнформация о датафрейме:\u001b[0m\n",
      "\n",
      "<class 'pandas.core.frame.DataFrame'>\n",
      "RangeIndex: 5000 entries, 0 to 4999\n",
      "Data columns (total 5 columns):\n",
      " #   Column             Non-Null Count  Dtype  \n",
      "---  ------             --------------  -----  \n",
      " 0   Пол                5000 non-null   int64  \n",
      " 1   Возраст            5000 non-null   float64\n",
      " 2   Зарплата           5000 non-null   float64\n",
      " 3   Члены семьи        5000 non-null   int64  \n",
      " 4   Страховые выплаты  5000 non-null   int64  \n",
      "dtypes: float64(2), int64(3)\n",
      "memory usage: 195.4 KB\n"
     ]
    },
    {
     "data": {
      "text/plain": [
       "None"
      ]
     },
     "metadata": {},
     "output_type": "display_data"
    },
    {
     "name": "stdout",
     "output_type": "stream",
     "text": [
      "\u001b[1mДубликаты:\u001b[0m\n",
      "Обнаружено дубликатов 153\n",
      "\n",
      "\u001b[1mОписание данных в столбцах с числовыми значениями:\u001b[0m\n"
     ]
    },
    {
     "data": {
      "text/html": [
       "<div>\n",
       "<style scoped>\n",
       "    .dataframe tbody tr th:only-of-type {\n",
       "        vertical-align: middle;\n",
       "    }\n",
       "\n",
       "    .dataframe tbody tr th {\n",
       "        vertical-align: top;\n",
       "    }\n",
       "\n",
       "    .dataframe thead th {\n",
       "        text-align: right;\n",
       "    }\n",
       "</style>\n",
       "<table border=\"1\" class=\"dataframe\">\n",
       "  <thead>\n",
       "    <tr style=\"text-align: right;\">\n",
       "      <th></th>\n",
       "      <th>count</th>\n",
       "      <th>mean</th>\n",
       "      <th>std</th>\n",
       "      <th>min</th>\n",
       "      <th>25%</th>\n",
       "      <th>50%</th>\n",
       "      <th>75%</th>\n",
       "      <th>max</th>\n",
       "    </tr>\n",
       "  </thead>\n",
       "  <tbody>\n",
       "    <tr>\n",
       "      <th>Пол</th>\n",
       "      <td>5,000.00</td>\n",
       "      <td>0.50</td>\n",
       "      <td>0.50</td>\n",
       "      <td>0.00</td>\n",
       "      <td>0.00</td>\n",
       "      <td>0.00</td>\n",
       "      <td>1.00</td>\n",
       "      <td>1.00</td>\n",
       "    </tr>\n",
       "    <tr>\n",
       "      <th>Возраст</th>\n",
       "      <td>5,000.00</td>\n",
       "      <td>30.95</td>\n",
       "      <td>8.44</td>\n",
       "      <td>18.00</td>\n",
       "      <td>24.00</td>\n",
       "      <td>30.00</td>\n",
       "      <td>37.00</td>\n",
       "      <td>65.00</td>\n",
       "    </tr>\n",
       "    <tr>\n",
       "      <th>Зарплата</th>\n",
       "      <td>5,000.00</td>\n",
       "      <td>39,916.36</td>\n",
       "      <td>9,900.08</td>\n",
       "      <td>5,300.00</td>\n",
       "      <td>33,300.00</td>\n",
       "      <td>40,200.00</td>\n",
       "      <td>46,600.00</td>\n",
       "      <td>79,000.00</td>\n",
       "    </tr>\n",
       "    <tr>\n",
       "      <th>Члены семьи</th>\n",
       "      <td>5,000.00</td>\n",
       "      <td>1.19</td>\n",
       "      <td>1.09</td>\n",
       "      <td>0.00</td>\n",
       "      <td>0.00</td>\n",
       "      <td>1.00</td>\n",
       "      <td>2.00</td>\n",
       "      <td>6.00</td>\n",
       "    </tr>\n",
       "    <tr>\n",
       "      <th>Страховые выплаты</th>\n",
       "      <td>5,000.00</td>\n",
       "      <td>0.15</td>\n",
       "      <td>0.46</td>\n",
       "      <td>0.00</td>\n",
       "      <td>0.00</td>\n",
       "      <td>0.00</td>\n",
       "      <td>0.00</td>\n",
       "      <td>5.00</td>\n",
       "    </tr>\n",
       "  </tbody>\n",
       "</table>\n",
       "</div>"
      ],
      "text/plain": [
       "                     count      mean      std      min       25%       50%  \\\n",
       "Пол               5,000.00      0.50     0.50     0.00      0.00      0.00   \n",
       "Возраст           5,000.00     30.95     8.44    18.00     24.00     30.00   \n",
       "Зарплата          5,000.00 39,916.36 9,900.08 5,300.00 33,300.00 40,200.00   \n",
       "Члены семьи       5,000.00      1.19     1.09     0.00      0.00      1.00   \n",
       "Страховые выплаты 5,000.00      0.15     0.46     0.00      0.00      0.00   \n",
       "\n",
       "                        75%       max  \n",
       "Пол                    1.00      1.00  \n",
       "Возраст               37.00     65.00  \n",
       "Зарплата          46,600.00 79,000.00  \n",
       "Члены семьи            2.00      6.00  \n",
       "Страховые выплаты      0.00      5.00  "
      ]
     },
     "metadata": {},
     "output_type": "display_data"
    },
    {
     "name": "stdout",
     "output_type": "stream",
     "text": [
      "\u001b[1mДиаграмма рассеивания:\u001b[0m\n"
     ]
    },
    {
     "data": {
      "image/png": "[encoded data removed]",
      "text/plain": [
       "<Figure size 1152x1152 with 16 Axes>"
      ]
     },
     "metadata": {
      "needs_background": "light"
     },
     "output_type": "display_data"
    },
    {
     "name": "stdout",
     "output_type": "stream",
     "text": [
      "\u001b[1mКорелляция данных:\u001b[0m\n"
     ]
    },
    {
     "data": {
      "image/png": "[encoded data removed]",
      "text/plain": [
       "<Figure size 1152x432 with 2 Axes>"
      ]
     },
     "metadata": {
      "needs_background": "light"
     },
     "output_type": "display_data"
    },
    {
     "name": "stdout",
     "output_type": "stream",
     "text": [
      "\u001b[1mСтолбцы:\u001b[0m \n",
      "\n",
      "\u001b[1;3mПол - Пол\u001b[0m\n",
      "\n",
      "\u001b[4mОписание данных:\u001b[0m\n",
      "count   5,000.00\n",
      "mean        0.50\n",
      "std         0.50\n",
      "min         0.00\n",
      "25%         0.00\n",
      "50%         0.00\n",
      "75%         1.00\n",
      "max         1.00\n",
      "Name: Пол, dtype: float64\n",
      "\u001b[4mКоличество записей:\u001b[0m 5000 из 5000\n",
      "\u001b[4m\n",
      "Тип:\n",
      "\u001b[0m <class 'numpy.int64'>\n",
      "\u001b[4m\n",
      "Распределение уникальных значений (первые 10 значений в порядке убывания):\u001b[0m\n"
     ]
    },
    {
     "data": {
      "text/html": [
       "<div>\n",
       "<style scoped>\n",
       "    .dataframe tbody tr th:only-of-type {\n",
       "        vertical-align: middle;\n",
       "    }\n",
       "\n",
       "    .dataframe tbody tr th {\n",
       "        vertical-align: top;\n",
       "    }\n",
       "\n",
       "    .dataframe thead th {\n",
       "        text-align: right;\n",
       "    }\n",
       "</style>\n",
       "<table border=\"1\" class=\"dataframe\">\n",
       "  <thead>\n",
       "    <tr style=\"text-align: right;\">\n",
       "      <th></th>\n",
       "      <th>Пол</th>\n",
       "      <th>cnt</th>\n",
       "    </tr>\n",
       "  </thead>\n",
       "  <tbody>\n",
       "    <tr>\n",
       "      <th>0</th>\n",
       "      <td>0</td>\n",
       "      <td>2505</td>\n",
       "    </tr>\n",
       "    <tr>\n",
       "      <th>1</th>\n",
       "      <td>1</td>\n",
       "      <td>2495</td>\n",
       "    </tr>\n",
       "  </tbody>\n",
       "</table>\n",
       "</div>"
      ],
      "text/plain": [
       "   Пол   cnt\n",
       "0    0  2505\n",
       "1    1  2495"
      ]
     },
     "metadata": {},
     "output_type": "display_data"
    },
    {
     "name": "stdout",
     "output_type": "stream",
     "text": [
      "\u001b[4m\n",
      "Гистограмма значений:\u001b[0m\n"
     ]
    },
    {
     "data": {
      "image/png": "[encoded data removed]",
      "text/plain": [
       "<Figure size 864x360 with 1 Axes>"
      ]
     },
     "metadata": {
      "needs_background": "light"
     },
     "output_type": "display_data"
    },
    {
     "name": "stdout",
     "output_type": "stream",
     "text": [
      "\n",
      "\u001b[1;3mВозраст - Возраст\u001b[0m\n",
      "\n",
      "\u001b[4mОписание данных:\u001b[0m\n",
      "count   5,000.00\n",
      "mean       30.95\n",
      "std         8.44\n",
      "min        18.00\n",
      "25%        24.00\n",
      "50%        30.00\n",
      "75%        37.00\n",
      "max        65.00\n",
      "Name: Возраст, dtype: float64\n",
      "\u001b[4mКоличество записей:\u001b[0m 5000 из 5000\n",
      "\u001b[4m\n",
      "Тип:\n",
      "\u001b[0m <class 'numpy.float64'>\n",
      "\u001b[4m\n",
      "Гистограмма значений:\u001b[0m\n"
     ]
    },
    {
     "data": {
      "image/png": "[encoded data removed]",
      "text/plain": [
       "<Figure size 864x360 with 1 Axes>"
      ]
     },
     "metadata": {
      "needs_background": "light"
     },
     "output_type": "display_data"
    },
    {
     "name": "stdout",
     "output_type": "stream",
     "text": [
      "\n",
      "\u001b[1;3mЗарплата - Зарплата\u001b[0m\n",
      "\n",
      "\u001b[4mОписание данных:\u001b[0m\n",
      "count    5,000.00\n",
      "mean    39,916.36\n",
      "std      9,900.08\n",
      "min      5,300.00\n",
      "25%     33,300.00\n",
      "50%     40,200.00\n",
      "75%     46,600.00\n",
      "max     79,000.00\n",
      "Name: Зарплата, dtype: float64\n",
      "\u001b[4mКоличество записей:\u001b[0m 5000 из 5000\n",
      "\u001b[4m\n",
      "Тип:\n",
      "\u001b[0m <class 'numpy.float64'>\n",
      "\u001b[4m\n",
      "Гистограмма значений:\u001b[0m\n"
     ]
    },
    {
     "data": {
      "image/png": "[encoded data removed]",
      "text/plain": [
       "<Figure size 864x360 with 1 Axes>"
      ]
     },
     "metadata": {
      "needs_background": "light"
     },
     "output_type": "display_data"
    },
    {
     "name": "stdout",
     "output_type": "stream",
     "text": [
      "\n",
      "\u001b[1;3mЧлены семьи - Члены семьи\u001b[0m\n",
      "\n",
      "\u001b[4mОписание данных:\u001b[0m\n",
      "count   5,000.00\n",
      "mean        1.19\n",
      "std         1.09\n",
      "min         0.00\n",
      "25%         0.00\n",
      "50%         1.00\n",
      "75%         2.00\n",
      "max         6.00\n",
      "Name: Члены семьи, dtype: float64\n",
      "\u001b[4mКоличество записей:\u001b[0m 5000 из 5000\n",
      "\u001b[4m\n",
      "Тип:\n",
      "\u001b[0m <class 'numpy.int64'>\n",
      "\u001b[4m\n",
      "Гистограмма значений:\u001b[0m\n"
     ]
    },
    {
     "data": {
      "image/png": "[encoded data removed]",
      "text/plain": [
       "<Figure size 864x360 with 1 Axes>"
      ]
     },
     "metadata": {
      "needs_background": "light"
     },
     "output_type": "display_data"
    },
    {
     "name": "stdout",
     "output_type": "stream",
     "text": [
      "\n",
      "\u001b[1;3mСтраховые выплаты - Страховые выплаты\u001b[0m\n",
      "\n",
      "\u001b[4mОписание данных:\u001b[0m\n",
      "count   5,000.00\n",
      "mean        0.15\n",
      "std         0.46\n",
      "min         0.00\n",
      "25%         0.00\n",
      "50%         0.00\n",
      "75%         0.00\n",
      "max         5.00\n",
      "Name: Страховые выплаты, dtype: float64\n",
      "\u001b[4mКоличество записей:\u001b[0m 5000 из 5000\n",
      "\u001b[4m\n",
      "Тип:\n",
      "\u001b[0m <class 'numpy.int64'>\n",
      "\u001b[4m\n",
      "Гистограмма значений:\u001b[0m\n"
     ]
    },
    {
     "data": {
      "image/png": "[encoded data removed]",
      "text/plain": [
       "<Figure size 864x360 with 1 Axes>"
      ]
     },
     "metadata": {
      "needs_background": "light"
     },
     "output_type": "display_data"
    },
    {
     "name": "stdout",
     "output_type": "stream",
     "text": [
      "\n"
     ]
    }
   ],
   "source": [
    "df_reaper(data, '', data_fields)"
   ]
  },
  {
   "cell_type": "code",
   "execution_count": 8,
   "metadata": {},
   "outputs": [
    {
     "data": {
      "text/html": [
       "<div>\n",
       "<style scoped>\n",
       "    .dataframe tbody tr th:only-of-type {\n",
       "        vertical-align: middle;\n",
       "    }\n",
       "\n",
       "    .dataframe tbody tr th {\n",
       "        vertical-align: top;\n",
       "    }\n",
       "\n",
       "    .dataframe thead th {\n",
       "        text-align: right;\n",
       "    }\n",
       "</style>\n",
       "<table border=\"1\" class=\"dataframe\">\n",
       "  <thead>\n",
       "    <tr style=\"text-align: right;\">\n",
       "      <th></th>\n",
       "      <th>Пол</th>\n",
       "      <th>Возраст</th>\n",
       "      <th>Зарплата</th>\n",
       "      <th>Члены семьи</th>\n",
       "      <th>Страховые выплаты</th>\n",
       "    </tr>\n",
       "  </thead>\n",
       "  <tbody>\n",
       "    <tr>\n",
       "      <th>0</th>\n",
       "      <td>1</td>\n",
       "      <td>41.00</td>\n",
       "      <td>49,600.00</td>\n",
       "      <td>1</td>\n",
       "      <td>0</td>\n",
       "    </tr>\n",
       "    <tr>\n",
       "      <th>1</th>\n",
       "      <td>0</td>\n",
       "      <td>46.00</td>\n",
       "      <td>38,000.00</td>\n",
       "      <td>1</td>\n",
       "      <td>1</td>\n",
       "    </tr>\n",
       "    <tr>\n",
       "      <th>2</th>\n",
       "      <td>0</td>\n",
       "      <td>29.00</td>\n",
       "      <td>21,000.00</td>\n",
       "      <td>0</td>\n",
       "      <td>0</td>\n",
       "    </tr>\n",
       "    <tr>\n",
       "      <th>3</th>\n",
       "      <td>0</td>\n",
       "      <td>21.00</td>\n",
       "      <td>41,700.00</td>\n",
       "      <td>2</td>\n",
       "      <td>0</td>\n",
       "    </tr>\n",
       "    <tr>\n",
       "      <th>4</th>\n",
       "      <td>1</td>\n",
       "      <td>28.00</td>\n",
       "      <td>26,100.00</td>\n",
       "      <td>0</td>\n",
       "      <td>0</td>\n",
       "    </tr>\n",
       "  </tbody>\n",
       "</table>\n",
       "</div>"
      ],
      "text/plain": [
       "   Пол  Возраст  Зарплата  Члены семьи  Страховые выплаты\n",
       "0    1    41.00 49,600.00            1                  0\n",
       "1    0    46.00 38,000.00            1                  1\n",
       "2    0    29.00 21,000.00            0                  0\n",
       "3    0    21.00 41,700.00            2                  0\n",
       "4    1    28.00 26,100.00            0                  0"
      ]
     },
     "execution_count": 8,
     "metadata": {},
     "output_type": "execute_result"
    }
   ],
   "source": [
    "data.head()"
   ]
  },
  {
   "cell_type": "markdown",
   "metadata": {},
   "source": [
    "### Подготовка данных"
   ]
  },
  {
   "cell_type": "markdown",
   "metadata": {},
   "source": [
    "#### Дубликаты"
   ]
  },
  {
   "cell_type": "markdown",
   "metadata": {},
   "source": [
    "Данные содержат дубликаты 153 записей."
   ]
  },
  {
   "cell_type": "markdown",
   "metadata": {},
   "source": [
    "Поскольку данные неименованные, а число признаков невелико, существует достаточно большая вероятность совпадений записей о разных клиентах.\n",
    "Поэтому удаление дубликатов не требуется."
   ]
  },
  {
   "cell_type": "code",
   "execution_count": 9,
   "metadata": {},
   "outputs": [
    {
     "data": {
      "text/html": [
       "<div>\n",
       "<style scoped>\n",
       "    .dataframe tbody tr th:only-of-type {\n",
       "        vertical-align: middle;\n",
       "    }\n",
       "\n",
       "    .dataframe tbody tr th {\n",
       "        vertical-align: top;\n",
       "    }\n",
       "\n",
       "    .dataframe thead th {\n",
       "        text-align: right;\n",
       "    }\n",
       "</style>\n",
       "<table border=\"1\" class=\"dataframe\">\n",
       "  <thead>\n",
       "    <tr style=\"text-align: right;\">\n",
       "      <th></th>\n",
       "      <th>Пол</th>\n",
       "      <th>Возраст</th>\n",
       "      <th>Зарплата</th>\n",
       "      <th>Члены семьи</th>\n",
       "      <th>Страховые выплаты</th>\n",
       "    </tr>\n",
       "  </thead>\n",
       "  <tbody>\n",
       "    <tr>\n",
       "      <th>3</th>\n",
       "      <td>0</td>\n",
       "      <td>21.00</td>\n",
       "      <td>41,700.00</td>\n",
       "      <td>2</td>\n",
       "      <td>0</td>\n",
       "    </tr>\n",
       "    <tr>\n",
       "      <th>24</th>\n",
       "      <td>0</td>\n",
       "      <td>21.00</td>\n",
       "      <td>40,400.00</td>\n",
       "      <td>3</td>\n",
       "      <td>0</td>\n",
       "    </tr>\n",
       "    <tr>\n",
       "      <th>52</th>\n",
       "      <td>1</td>\n",
       "      <td>29.00</td>\n",
       "      <td>42,400.00</td>\n",
       "      <td>0</td>\n",
       "      <td>0</td>\n",
       "    </tr>\n",
       "    <tr>\n",
       "      <th>59</th>\n",
       "      <td>1</td>\n",
       "      <td>30.00</td>\n",
       "      <td>49,900.00</td>\n",
       "      <td>1</td>\n",
       "      <td>0</td>\n",
       "    </tr>\n",
       "    <tr>\n",
       "      <th>63</th>\n",
       "      <td>0</td>\n",
       "      <td>32.00</td>\n",
       "      <td>43,800.00</td>\n",
       "      <td>1</td>\n",
       "      <td>0</td>\n",
       "    </tr>\n",
       "  </tbody>\n",
       "</table>\n",
       "</div>"
      ],
      "text/plain": [
       "    Пол  Возраст  Зарплата  Члены семьи  Страховые выплаты\n",
       "3     0    21.00 41,700.00            2                  0\n",
       "24    0    21.00 40,400.00            3                  0\n",
       "52    1    29.00 42,400.00            0                  0\n",
       "59    1    30.00 49,900.00            1                  0\n",
       "63    0    32.00 43,800.00            1                  0"
      ]
     },
     "execution_count": 9,
     "metadata": {},
     "output_type": "execute_result"
    }
   ],
   "source": [
    "data[data.duplicated(keep = False)].head()"
   ]
  },
  {
   "cell_type": "markdown",
   "metadata": {},
   "source": [
    "#### Разделение признаков"
   ]
  },
  {
   "cell_type": "markdown",
   "metadata": {},
   "source": [
    "Целевой признак - **Страховые выплаты**"
   ]
  },
  {
   "cell_type": "code",
   "execution_count": 10,
   "metadata": {},
   "outputs": [],
   "source": [
    "target = data['Страховые выплаты'] \n",
    "features = data.drop('Страховые выплаты', axis=1)"
   ]
  },
  {
   "cell_type": "code",
   "execution_count": 11,
   "metadata": {},
   "outputs": [
    {
     "data": {
      "text/html": [
       "<div>\n",
       "<style scoped>\n",
       "    .dataframe tbody tr th:only-of-type {\n",
       "        vertical-align: middle;\n",
       "    }\n",
       "\n",
       "    .dataframe tbody tr th {\n",
       "        vertical-align: top;\n",
       "    }\n",
       "\n",
       "    .dataframe thead th {\n",
       "        text-align: right;\n",
       "    }\n",
       "</style>\n",
       "<table border=\"1\" class=\"dataframe\">\n",
       "  <thead>\n",
       "    <tr style=\"text-align: right;\">\n",
       "      <th></th>\n",
       "      <th>Пол</th>\n",
       "      <th>Возраст</th>\n",
       "      <th>Зарплата</th>\n",
       "      <th>Члены семьи</th>\n",
       "    </tr>\n",
       "  </thead>\n",
       "  <tbody>\n",
       "    <tr>\n",
       "      <th>0</th>\n",
       "      <td>1</td>\n",
       "      <td>41.00</td>\n",
       "      <td>49,600.00</td>\n",
       "      <td>1</td>\n",
       "    </tr>\n",
       "    <tr>\n",
       "      <th>1</th>\n",
       "      <td>0</td>\n",
       "      <td>46.00</td>\n",
       "      <td>38,000.00</td>\n",
       "      <td>1</td>\n",
       "    </tr>\n",
       "    <tr>\n",
       "      <th>2</th>\n",
       "      <td>0</td>\n",
       "      <td>29.00</td>\n",
       "      <td>21,000.00</td>\n",
       "      <td>0</td>\n",
       "    </tr>\n",
       "    <tr>\n",
       "      <th>3</th>\n",
       "      <td>0</td>\n",
       "      <td>21.00</td>\n",
       "      <td>41,700.00</td>\n",
       "      <td>2</td>\n",
       "    </tr>\n",
       "    <tr>\n",
       "      <th>4</th>\n",
       "      <td>1</td>\n",
       "      <td>28.00</td>\n",
       "      <td>26,100.00</td>\n",
       "      <td>0</td>\n",
       "    </tr>\n",
       "    <tr>\n",
       "      <th>...</th>\n",
       "      <td>...</td>\n",
       "      <td>...</td>\n",
       "      <td>...</td>\n",
       "      <td>...</td>\n",
       "    </tr>\n",
       "    <tr>\n",
       "      <th>4995</th>\n",
       "      <td>0</td>\n",
       "      <td>28.00</td>\n",
       "      <td>35,700.00</td>\n",
       "      <td>2</td>\n",
       "    </tr>\n",
       "    <tr>\n",
       "      <th>4996</th>\n",
       "      <td>0</td>\n",
       "      <td>34.00</td>\n",
       "      <td>52,400.00</td>\n",
       "      <td>1</td>\n",
       "    </tr>\n",
       "    <tr>\n",
       "      <th>4997</th>\n",
       "      <td>0</td>\n",
       "      <td>20.00</td>\n",
       "      <td>33,900.00</td>\n",
       "      <td>2</td>\n",
       "    </tr>\n",
       "    <tr>\n",
       "      <th>4998</th>\n",
       "      <td>1</td>\n",
       "      <td>22.00</td>\n",
       "      <td>32,700.00</td>\n",
       "      <td>3</td>\n",
       "    </tr>\n",
       "    <tr>\n",
       "      <th>4999</th>\n",
       "      <td>1</td>\n",
       "      <td>28.00</td>\n",
       "      <td>40,600.00</td>\n",
       "      <td>1</td>\n",
       "    </tr>\n",
       "  </tbody>\n",
       "</table>\n",
       "<p>5000 rows × 4 columns</p>\n",
       "</div>"
      ],
      "text/plain": [
       "      Пол  Возраст  Зарплата  Члены семьи\n",
       "0       1    41.00 49,600.00            1\n",
       "1       0    46.00 38,000.00            1\n",
       "2       0    29.00 21,000.00            0\n",
       "3       0    21.00 41,700.00            2\n",
       "4       1    28.00 26,100.00            0\n",
       "...   ...      ...       ...          ...\n",
       "4995    0    28.00 35,700.00            2\n",
       "4996    0    34.00 52,400.00            1\n",
       "4997    0    20.00 33,900.00            2\n",
       "4998    1    22.00 32,700.00            3\n",
       "4999    1    28.00 40,600.00            1\n",
       "\n",
       "[5000 rows x 4 columns]"
      ]
     },
     "execution_count": 11,
     "metadata": {},
     "output_type": "execute_result"
    }
   ],
   "source": [
    "features"
   ]
  },
  {
   "cell_type": "markdown",
   "metadata": {},
   "source": [
    "Числовые и категориальные признаки:"
   ]
  },
  {
   "cell_type": "code",
   "execution_count": 12,
   "metadata": {},
   "outputs": [],
   "source": [
    "numeric = ['Возраст', 'Зарплата']\n",
    "categorial = ['Пол', 'Члены семьи']"
   ]
  },
  {
   "cell_type": "markdown",
   "metadata": {},
   "source": [
    "#### Разбивка датасета  на тренировочную и валидационную и тестовую выборку в пропорции 75:25"
   ]
  },
  {
   "cell_type": "code",
   "execution_count": 13,
   "metadata": {},
   "outputs": [
    {
     "data": {
      "text/plain": [
       "0    4436\n",
       "1     423\n",
       "2     115\n",
       "3      18\n",
       "4       7\n",
       "5       1\n",
       "Name: Страховые выплаты, dtype: int64"
      ]
     },
     "execution_count": 13,
     "metadata": {},
     "output_type": "execute_result"
    }
   ],
   "source": [
    "target.value_counts()"
   ]
  },
  {
   "cell_type": "code",
   "execution_count": 14,
   "metadata": {},
   "outputs": [],
   "source": [
    "features_train, features_valid, target_train, target_valid = train_test_split(\n",
    "    features, target, test_size=0.25, random_state=12345)"
   ]
  },
  {
   "cell_type": "markdown",
   "metadata": {},
   "source": [
    "Из-за редкости некоторых значений стратификация при разбивке невозможна :("
   ]
  },
  {
   "cell_type": "markdown",
   "metadata": {},
   "source": [
    "#### Прямое кодирование"
   ]
  },
  {
   "cell_type": "markdown",
   "metadata": {},
   "source": [
    "Столбец \"Пол\" не требует прямого кодирования: он уже бинарен. Применим прямое кодирование для столбца: \"Члены семьи\""
   ]
  },
  {
   "cell_type": "code",
   "execution_count": 15,
   "metadata": {},
   "outputs": [
    {
     "data": {
      "text/html": [
       "<style>#sk-container-id-1 {color: black;background-color: white;}#sk-container-id-1 pre{padding: 0;}#sk-container-id-1 div.sk-toggleable {background-color: white;}#sk-container-id-1 label.sk-toggleable__label {cursor: pointer;display: block;width: 100%;margin-bottom: 0;padding: 0.3em;box-sizing: border-box;text-align: center;}#sk-container-id-1 label.sk-toggleable__label-arrow:before {content: \"▸\";float: left;margin-right: 0.25em;color: #696969;}#sk-container-id-1 label.sk-toggleable__label-arrow:hover:before {color: black;}#sk-container-id-1 div.sk-estimator:hover label.sk-toggleable__label-arrow:before {color: black;}#sk-container-id-1 div.sk-toggleable__content {max-height: 0;max-width: 0;overflow: hidden;text-align: left;background-color: #f0f8ff;}#sk-container-id-1 div.sk-toggleable__content pre {margin: 0.2em;color: black;border-radius: 0.25em;background-color: #f0f8ff;}#sk-container-id-1 input.sk-toggleable__control:checked~div.sk-toggleable__content {max-height: 200px;max-width: 100%;overflow: auto;}#sk-container-id-1 input.sk-toggleable__control:checked~label.sk-toggleable__label-arrow:before {content: \"▾\";}#sk-container-id-1 div.sk-estimator input.sk-toggleable__control:checked~label.sk-toggleable__label {background-color: #d4ebff;}#sk-container-id-1 div.sk-label input.sk-toggleable__control:checked~label.sk-toggleable__label {background-color: #d4ebff;}#sk-container-id-1 input.sk-hidden--visually {border: 0;clip: rect(1px 1px 1px 1px);clip: rect(1px, 1px, 1px, 1px);height: 1px;margin: -1px;overflow: hidden;padding: 0;position: absolute;width: 1px;}#sk-container-id-1 div.sk-estimator {font-family: monospace;background-color: #f0f8ff;border: 1px dotted black;border-radius: 0.25em;box-sizing: border-box;margin-bottom: 0.5em;}#sk-container-id-1 div.sk-estimator:hover {background-color: #d4ebff;}#sk-container-id-1 div.sk-parallel-item::after {content: \"\";width: 100%;border-bottom: 1px solid gray;flex-grow: 1;}#sk-container-id-1 div.sk-label:hover label.sk-toggleable__label {background-color: #d4ebff;}#sk-container-id-1 div.sk-serial::before {content: \"\";position: absolute;border-left: 1px solid gray;box-sizing: border-box;top: 0;bottom: 0;left: 50%;z-index: 0;}#sk-container-id-1 div.sk-serial {display: flex;flex-direction: column;align-items: center;background-color: white;padding-right: 0.2em;padding-left: 0.2em;position: relative;}#sk-container-id-1 div.sk-item {position: relative;z-index: 1;}#sk-container-id-1 div.sk-parallel {display: flex;align-items: stretch;justify-content: center;background-color: white;position: relative;}#sk-container-id-1 div.sk-item::before, #sk-container-id-1 div.sk-parallel-item::before {content: \"\";position: absolute;border-left: 1px solid gray;box-sizing: border-box;top: 0;bottom: 0;left: 50%;z-index: -1;}#sk-container-id-1 div.sk-parallel-item {display: flex;flex-direction: column;z-index: 1;position: relative;background-color: white;}#sk-container-id-1 div.sk-parallel-item:first-child::after {align-self: flex-end;width: 50%;}#sk-container-id-1 div.sk-parallel-item:last-child::after {align-self: flex-start;width: 50%;}#sk-container-id-1 div.sk-parallel-item:only-child::after {width: 0;}#sk-container-id-1 div.sk-dashed-wrapped {border: 1px dashed gray;margin: 0 0.4em 0.5em 0.4em;box-sizing: border-box;padding-bottom: 0.4em;background-color: white;}#sk-container-id-1 div.sk-label label {font-family: monospace;font-weight: bold;display: inline-block;line-height: 1.2em;}#sk-container-id-1 div.sk-label-container {text-align: center;}#sk-container-id-1 div.sk-container {/* jupyter's `normalize.less` sets `[hidden] { display: none; }` but bootstrap.min.css set `[hidden] { display: none !important; }` so we also need the `!important` here to be able to override the default hidden behavior on the sphinx rendered scikit-learn.org. See: https://github.com/scikit-learn/scikit-learn/issues/21755 */display: inline-block !important;position: relative;}#sk-container-id-1 div.sk-text-repr-fallback {display: none;}</style><div id=\"sk-container-id-1\" class=\"sk-top-container\"><div class=\"sk-text-repr-fallback\"><pre>OneHotEncoder(drop=&#x27;first&#x27;, sparse=False, sparse_output=False)</pre><b>In a Jupyter environment, please rerun this cell to show the HTML representation or trust the notebook. <br />On GitHub, the HTML representation is unable to render, please try loading this page with nbviewer.org.</b></div><div class=\"sk-container\" hidden><div class=\"sk-item\"><div class=\"sk-estimator sk-toggleable\"><input class=\"sk-toggleable__control sk-hidden--visually\" id=\"sk-estimator-id-1\" type=\"checkbox\" checked><label for=\"sk-estimator-id-1\" class=\"sk-toggleable__label sk-toggleable__label-arrow\">OneHotEncoder</label><div class=\"sk-toggleable__content\"><pre>OneHotEncoder(drop=&#x27;first&#x27;, sparse=False, sparse_output=False)</pre></div></div></div></div></div>"
      ],
      "text/plain": [
       "OneHotEncoder(drop='first', sparse=False, sparse_output=False)"
      ]
     },
     "execution_count": 15,
     "metadata": {},
     "output_type": "execute_result"
    }
   ],
   "source": [
    "ohe_columns=['Члены семьи']\n",
    "encoder_ohe = OneHotEncoder(drop='first', handle_unknown='error', sparse=False)\n",
    "encoder_ohe.fit(features_train[ohe_columns])"
   ]
  },
  {
   "cell_type": "code",
   "execution_count": 16,
   "metadata": {},
   "outputs": [],
   "source": [
    "try:\n",
    "    new_columns = encoder_ohe.get_feature_names_out()\n",
    "    new_columns\n",
    "except:\n",
    "    new_columns = encoder_ohe.get_feature_names()\n",
    "    new_columns\n",
    "    "
   ]
  },
  {
   "cell_type": "code",
   "execution_count": 17,
   "metadata": {},
   "outputs": [],
   "source": [
    "features_train[new_columns] = encoder_ohe.transform(features_train[ohe_columns])\n",
    "features_train = features_train.drop(ohe_columns, axis=1)"
   ]
  },
  {
   "cell_type": "code",
   "execution_count": 18,
   "metadata": {},
   "outputs": [],
   "source": [
    "features_valid[new_columns] = encoder_ohe.transform(features_valid[ohe_columns])\n",
    "features_valid = features_valid.drop(ohe_columns, axis=1)"
   ]
  },
  {
   "cell_type": "code",
   "execution_count": 19,
   "metadata": {},
   "outputs": [
    {
     "data": {
      "text/html": [
       "<div>\n",
       "<style scoped>\n",
       "    .dataframe tbody tr th:only-of-type {\n",
       "        vertical-align: middle;\n",
       "    }\n",
       "\n",
       "    .dataframe tbody tr th {\n",
       "        vertical-align: top;\n",
       "    }\n",
       "\n",
       "    .dataframe thead th {\n",
       "        text-align: right;\n",
       "    }\n",
       "</style>\n",
       "<table border=\"1\" class=\"dataframe\">\n",
       "  <thead>\n",
       "    <tr style=\"text-align: right;\">\n",
       "      <th></th>\n",
       "      <th>Пол</th>\n",
       "      <th>Возраст</th>\n",
       "      <th>Зарплата</th>\n",
       "      <th>Члены семьи_1</th>\n",
       "      <th>Члены семьи_2</th>\n",
       "      <th>Члены семьи_3</th>\n",
       "      <th>Члены семьи_4</th>\n",
       "      <th>Члены семьи_5</th>\n",
       "      <th>Члены семьи_6</th>\n",
       "    </tr>\n",
       "  </thead>\n",
       "  <tbody>\n",
       "    <tr>\n",
       "      <th>3369</th>\n",
       "      <td>1</td>\n",
       "      <td>43.00</td>\n",
       "      <td>36,200.00</td>\n",
       "      <td>1.00</td>\n",
       "      <td>0.00</td>\n",
       "      <td>0.00</td>\n",
       "      <td>0.00</td>\n",
       "      <td>0.00</td>\n",
       "      <td>0.00</td>\n",
       "    </tr>\n",
       "    <tr>\n",
       "      <th>1441</th>\n",
       "      <td>1</td>\n",
       "      <td>34.00</td>\n",
       "      <td>57,600.00</td>\n",
       "      <td>0.00</td>\n",
       "      <td>0.00</td>\n",
       "      <td>0.00</td>\n",
       "      <td>0.00</td>\n",
       "      <td>0.00</td>\n",
       "      <td>0.00</td>\n",
       "    </tr>\n",
       "    <tr>\n",
       "      <th>571</th>\n",
       "      <td>0</td>\n",
       "      <td>32.00</td>\n",
       "      <td>41,100.00</td>\n",
       "      <td>1.00</td>\n",
       "      <td>0.00</td>\n",
       "      <td>0.00</td>\n",
       "      <td>0.00</td>\n",
       "      <td>0.00</td>\n",
       "      <td>0.00</td>\n",
       "    </tr>\n",
       "    <tr>\n",
       "      <th>225</th>\n",
       "      <td>0</td>\n",
       "      <td>36.00</td>\n",
       "      <td>45,100.00</td>\n",
       "      <td>1.00</td>\n",
       "      <td>0.00</td>\n",
       "      <td>0.00</td>\n",
       "      <td>0.00</td>\n",
       "      <td>0.00</td>\n",
       "      <td>0.00</td>\n",
       "    </tr>\n",
       "    <tr>\n",
       "      <th>2558</th>\n",
       "      <td>0</td>\n",
       "      <td>33.00</td>\n",
       "      <td>50,600.00</td>\n",
       "      <td>0.00</td>\n",
       "      <td>1.00</td>\n",
       "      <td>0.00</td>\n",
       "      <td>0.00</td>\n",
       "      <td>0.00</td>\n",
       "      <td>0.00</td>\n",
       "    </tr>\n",
       "    <tr>\n",
       "      <th>...</th>\n",
       "      <td>...</td>\n",
       "      <td>...</td>\n",
       "      <td>...</td>\n",
       "      <td>...</td>\n",
       "      <td>...</td>\n",
       "      <td>...</td>\n",
       "      <td>...</td>\n",
       "      <td>...</td>\n",
       "      <td>...</td>\n",
       "    </tr>\n",
       "    <tr>\n",
       "      <th>3497</th>\n",
       "      <td>0</td>\n",
       "      <td>42.00</td>\n",
       "      <td>32,100.00</td>\n",
       "      <td>0.00</td>\n",
       "      <td>0.00</td>\n",
       "      <td>0.00</td>\n",
       "      <td>0.00</td>\n",
       "      <td>0.00</td>\n",
       "      <td>0.00</td>\n",
       "    </tr>\n",
       "    <tr>\n",
       "      <th>3492</th>\n",
       "      <td>0</td>\n",
       "      <td>28.00</td>\n",
       "      <td>22,700.00</td>\n",
       "      <td>0.00</td>\n",
       "      <td>0.00</td>\n",
       "      <td>0.00</td>\n",
       "      <td>1.00</td>\n",
       "      <td>0.00</td>\n",
       "      <td>0.00</td>\n",
       "    </tr>\n",
       "    <tr>\n",
       "      <th>2177</th>\n",
       "      <td>1</td>\n",
       "      <td>41.00</td>\n",
       "      <td>44,700.00</td>\n",
       "      <td>1.00</td>\n",
       "      <td>0.00</td>\n",
       "      <td>0.00</td>\n",
       "      <td>0.00</td>\n",
       "      <td>0.00</td>\n",
       "      <td>0.00</td>\n",
       "    </tr>\n",
       "    <tr>\n",
       "      <th>3557</th>\n",
       "      <td>0</td>\n",
       "      <td>22.00</td>\n",
       "      <td>50,100.00</td>\n",
       "      <td>0.00</td>\n",
       "      <td>0.00</td>\n",
       "      <td>0.00</td>\n",
       "      <td>1.00</td>\n",
       "      <td>0.00</td>\n",
       "      <td>0.00</td>\n",
       "    </tr>\n",
       "    <tr>\n",
       "      <th>4578</th>\n",
       "      <td>0</td>\n",
       "      <td>19.00</td>\n",
       "      <td>40,800.00</td>\n",
       "      <td>0.00</td>\n",
       "      <td>0.00</td>\n",
       "      <td>0.00</td>\n",
       "      <td>0.00</td>\n",
       "      <td>0.00</td>\n",
       "      <td>0.00</td>\n",
       "    </tr>\n",
       "  </tbody>\n",
       "</table>\n",
       "<p>3750 rows × 9 columns</p>\n",
       "</div>"
      ],
      "text/plain": [
       "      Пол  Возраст  Зарплата  Члены семьи_1  Члены семьи_2  Члены семьи_3  \\\n",
       "3369    1    43.00 36,200.00           1.00           0.00           0.00   \n",
       "1441    1    34.00 57,600.00           0.00           0.00           0.00   \n",
       "571     0    32.00 41,100.00           1.00           0.00           0.00   \n",
       "225     0    36.00 45,100.00           1.00           0.00           0.00   \n",
       "2558    0    33.00 50,600.00           0.00           1.00           0.00   \n",
       "...   ...      ...       ...            ...            ...            ...   \n",
       "3497    0    42.00 32,100.00           0.00           0.00           0.00   \n",
       "3492    0    28.00 22,700.00           0.00           0.00           0.00   \n",
       "2177    1    41.00 44,700.00           1.00           0.00           0.00   \n",
       "3557    0    22.00 50,100.00           0.00           0.00           0.00   \n",
       "4578    0    19.00 40,800.00           0.00           0.00           0.00   \n",
       "\n",
       "      Члены семьи_4  Члены семьи_5  Члены семьи_6  \n",
       "3369           0.00           0.00           0.00  \n",
       "1441           0.00           0.00           0.00  \n",
       "571            0.00           0.00           0.00  \n",
       "225            0.00           0.00           0.00  \n",
       "2558           0.00           0.00           0.00  \n",
       "...             ...            ...            ...  \n",
       "3497           0.00           0.00           0.00  \n",
       "3492           1.00           0.00           0.00  \n",
       "2177           0.00           0.00           0.00  \n",
       "3557           1.00           0.00           0.00  \n",
       "4578           0.00           0.00           0.00  \n",
       "\n",
       "[3750 rows x 9 columns]"
      ]
     },
     "execution_count": 19,
     "metadata": {},
     "output_type": "execute_result"
    }
   ],
   "source": [
    "features_train"
   ]
  },
  {
   "cell_type": "markdown",
   "metadata": {},
   "source": [
    "#### Масштабирование целевых признаков"
   ]
  },
  {
   "cell_type": "markdown",
   "metadata": {},
   "source": [
    "Масштабирование числовых признаков:\n",
    "1. Уберет дисбаланс значений параметров\n",
    "2. Дополнительно защитит персональные данные"
   ]
  },
  {
   "cell_type": "code",
   "execution_count": 20,
   "metadata": {},
   "outputs": [],
   "source": [
    "scaler = StandardScaler()\n",
    "scaler.fit(features_train[numeric]) \n",
    "features_train[numeric] = scaler.transform(features_train[numeric])\n",
    "features_valid[numeric] = scaler.transform(features_valid[numeric])"
   ]
  },
  {
   "cell_type": "code",
   "execution_count": 21,
   "metadata": {},
   "outputs": [
    {
     "data": {
      "text/html": [
       "<div>\n",
       "<style scoped>\n",
       "    .dataframe tbody tr th:only-of-type {\n",
       "        vertical-align: middle;\n",
       "    }\n",
       "\n",
       "    .dataframe tbody tr th {\n",
       "        vertical-align: top;\n",
       "    }\n",
       "\n",
       "    .dataframe thead th {\n",
       "        text-align: right;\n",
       "    }\n",
       "</style>\n",
       "<table border=\"1\" class=\"dataframe\">\n",
       "  <thead>\n",
       "    <tr style=\"text-align: right;\">\n",
       "      <th></th>\n",
       "      <th>Пол</th>\n",
       "      <th>Возраст</th>\n",
       "      <th>Зарплата</th>\n",
       "      <th>Члены семьи_1</th>\n",
       "      <th>Члены семьи_2</th>\n",
       "      <th>Члены семьи_3</th>\n",
       "      <th>Члены семьи_4</th>\n",
       "      <th>Члены семьи_5</th>\n",
       "      <th>Члены семьи_6</th>\n",
       "    </tr>\n",
       "  </thead>\n",
       "  <tbody>\n",
       "    <tr>\n",
       "      <th>3369</th>\n",
       "      <td>1</td>\n",
       "      <td>1.41</td>\n",
       "      <td>-0.38</td>\n",
       "      <td>1.00</td>\n",
       "      <td>0.00</td>\n",
       "      <td>0.00</td>\n",
       "      <td>0.00</td>\n",
       "      <td>0.00</td>\n",
       "      <td>0.00</td>\n",
       "    </tr>\n",
       "    <tr>\n",
       "      <th>1441</th>\n",
       "      <td>1</td>\n",
       "      <td>0.35</td>\n",
       "      <td>1.79</td>\n",
       "      <td>0.00</td>\n",
       "      <td>0.00</td>\n",
       "      <td>0.00</td>\n",
       "      <td>0.00</td>\n",
       "      <td>0.00</td>\n",
       "      <td>0.00</td>\n",
       "    </tr>\n",
       "    <tr>\n",
       "      <th>571</th>\n",
       "      <td>0</td>\n",
       "      <td>0.11</td>\n",
       "      <td>0.12</td>\n",
       "      <td>1.00</td>\n",
       "      <td>0.00</td>\n",
       "      <td>0.00</td>\n",
       "      <td>0.00</td>\n",
       "      <td>0.00</td>\n",
       "      <td>0.00</td>\n",
       "    </tr>\n",
       "    <tr>\n",
       "      <th>225</th>\n",
       "      <td>0</td>\n",
       "      <td>0.59</td>\n",
       "      <td>0.52</td>\n",
       "      <td>1.00</td>\n",
       "      <td>0.00</td>\n",
       "      <td>0.00</td>\n",
       "      <td>0.00</td>\n",
       "      <td>0.00</td>\n",
       "      <td>0.00</td>\n",
       "    </tr>\n",
       "    <tr>\n",
       "      <th>2558</th>\n",
       "      <td>0</td>\n",
       "      <td>0.23</td>\n",
       "      <td>1.08</td>\n",
       "      <td>0.00</td>\n",
       "      <td>1.00</td>\n",
       "      <td>0.00</td>\n",
       "      <td>0.00</td>\n",
       "      <td>0.00</td>\n",
       "      <td>0.00</td>\n",
       "    </tr>\n",
       "  </tbody>\n",
       "</table>\n",
       "</div>"
      ],
      "text/plain": [
       "      Пол  Возраст  Зарплата  Члены семьи_1  Члены семьи_2  Члены семьи_3  \\\n",
       "3369    1     1.41     -0.38           1.00           0.00           0.00   \n",
       "1441    1     0.35      1.79           0.00           0.00           0.00   \n",
       "571     0     0.11      0.12           1.00           0.00           0.00   \n",
       "225     0     0.59      0.52           1.00           0.00           0.00   \n",
       "2558    0     0.23      1.08           0.00           1.00           0.00   \n",
       "\n",
       "      Члены семьи_4  Члены семьи_5  Члены семьи_6  \n",
       "3369           0.00           0.00           0.00  \n",
       "1441           0.00           0.00           0.00  \n",
       "571            0.00           0.00           0.00  \n",
       "225            0.00           0.00           0.00  \n",
       "2558           0.00           0.00           0.00  "
      ]
     },
     "execution_count": 21,
     "metadata": {},
     "output_type": "execute_result"
    }
   ],
   "source": [
    "features_train.head()"
   ]
  },
  {
   "cell_type": "markdown",
   "metadata": {},
   "source": [
    "#### Обучение модели"
   ]
  },
  {
   "cell_type": "code",
   "execution_count": 22,
   "metadata": {},
   "outputs": [
    {
     "data": {
      "text/html": [
       "<style>#sk-container-id-2 {color: black;background-color: white;}#sk-container-id-2 pre{padding: 0;}#sk-container-id-2 div.sk-toggleable {background-color: white;}#sk-container-id-2 label.sk-toggleable__label {cursor: pointer;display: block;width: 100%;margin-bottom: 0;padding: 0.3em;box-sizing: border-box;text-align: center;}#sk-container-id-2 label.sk-toggleable__label-arrow:before {content: \"▸\";float: left;margin-right: 0.25em;color: #696969;}#sk-container-id-2 label.sk-toggleable__label-arrow:hover:before {color: black;}#sk-container-id-2 div.sk-estimator:hover label.sk-toggleable__label-arrow:before {color: black;}#sk-container-id-2 div.sk-toggleable__content {max-height: 0;max-width: 0;overflow: hidden;text-align: left;background-color: #f0f8ff;}#sk-container-id-2 div.sk-toggleable__content pre {margin: 0.2em;color: black;border-radius: 0.25em;background-color: #f0f8ff;}#sk-container-id-2 input.sk-toggleable__control:checked~div.sk-toggleable__content {max-height: 200px;max-width: 100%;overflow: auto;}#sk-container-id-2 input.sk-toggleable__control:checked~label.sk-toggleable__label-arrow:before {content: \"▾\";}#sk-container-id-2 div.sk-estimator input.sk-toggleable__control:checked~label.sk-toggleable__label {background-color: #d4ebff;}#sk-container-id-2 div.sk-label input.sk-toggleable__control:checked~label.sk-toggleable__label {background-color: #d4ebff;}#sk-container-id-2 input.sk-hidden--visually {border: 0;clip: rect(1px 1px 1px 1px);clip: rect(1px, 1px, 1px, 1px);height: 1px;margin: -1px;overflow: hidden;padding: 0;position: absolute;width: 1px;}#sk-container-id-2 div.sk-estimator {font-family: monospace;background-color: #f0f8ff;border: 1px dotted black;border-radius: 0.25em;box-sizing: border-box;margin-bottom: 0.5em;}#sk-container-id-2 div.sk-estimator:hover {background-color: #d4ebff;}#sk-container-id-2 div.sk-parallel-item::after {content: \"\";width: 100%;border-bottom: 1px solid gray;flex-grow: 1;}#sk-container-id-2 div.sk-label:hover label.sk-toggleable__label {background-color: #d4ebff;}#sk-container-id-2 div.sk-serial::before {content: \"\";position: absolute;border-left: 1px solid gray;box-sizing: border-box;top: 0;bottom: 0;left: 50%;z-index: 0;}#sk-container-id-2 div.sk-serial {display: flex;flex-direction: column;align-items: center;background-color: white;padding-right: 0.2em;padding-left: 0.2em;position: relative;}#sk-container-id-2 div.sk-item {position: relative;z-index: 1;}#sk-container-id-2 div.sk-parallel {display: flex;align-items: stretch;justify-content: center;background-color: white;position: relative;}#sk-container-id-2 div.sk-item::before, #sk-container-id-2 div.sk-parallel-item::before {content: \"\";position: absolute;border-left: 1px solid gray;box-sizing: border-box;top: 0;bottom: 0;left: 50%;z-index: -1;}#sk-container-id-2 div.sk-parallel-item {display: flex;flex-direction: column;z-index: 1;position: relative;background-color: white;}#sk-container-id-2 div.sk-parallel-item:first-child::after {align-self: flex-end;width: 50%;}#sk-container-id-2 div.sk-parallel-item:last-child::after {align-self: flex-start;width: 50%;}#sk-container-id-2 div.sk-parallel-item:only-child::after {width: 0;}#sk-container-id-2 div.sk-dashed-wrapped {border: 1px dashed gray;margin: 0 0.4em 0.5em 0.4em;box-sizing: border-box;padding-bottom: 0.4em;background-color: white;}#sk-container-id-2 div.sk-label label {font-family: monospace;font-weight: bold;display: inline-block;line-height: 1.2em;}#sk-container-id-2 div.sk-label-container {text-align: center;}#sk-container-id-2 div.sk-container {/* jupyter's `normalize.less` sets `[hidden] { display: none; }` but bootstrap.min.css set `[hidden] { display: none !important; }` so we also need the `!important` here to be able to override the default hidden behavior on the sphinx rendered scikit-learn.org. See: https://github.com/scikit-learn/scikit-learn/issues/21755 */display: inline-block !important;position: relative;}#sk-container-id-2 div.sk-text-repr-fallback {display: none;}</style><div id=\"sk-container-id-2\" class=\"sk-top-container\"><div class=\"sk-text-repr-fallback\"><pre>LinearRegression()</pre><b>In a Jupyter environment, please rerun this cell to show the HTML representation or trust the notebook. <br />On GitHub, the HTML representation is unable to render, please try loading this page with nbviewer.org.</b></div><div class=\"sk-container\" hidden><div class=\"sk-item\"><div class=\"sk-estimator sk-toggleable\"><input class=\"sk-toggleable__control sk-hidden--visually\" id=\"sk-estimator-id-2\" type=\"checkbox\" checked><label for=\"sk-estimator-id-2\" class=\"sk-toggleable__label sk-toggleable__label-arrow\">LinearRegression</label><div class=\"sk-toggleable__content\"><pre>LinearRegression()</pre></div></div></div></div></div>"
      ],
      "text/plain": [
       "LinearRegression()"
      ]
     },
     "execution_count": 22,
     "metadata": {},
     "output_type": "execute_result"
    }
   ],
   "source": [
    "model_0 = LinearRegression()\n",
    "model_0.fit(features_train, target_train)"
   ]
  },
  {
   "cell_type": "markdown",
   "metadata": {},
   "source": [
    "Метрика R2:"
   ]
  },
  {
   "cell_type": "code",
   "execution_count": 23,
   "metadata": {},
   "outputs": [
    {
     "name": "stdout",
     "output_type": "stream",
     "text": [
      "Метрика R2 модели: 0.42\n"
     ]
    }
   ],
   "source": [
    "print('Метрика R2 модели: {:.2f}'.format(model_0.score(features_train, target_train)))"
   ]
  },
  {
   "cell_type": "markdown",
   "metadata": {},
   "source": [
    "### Итог этапа:"
   ]
  },
  {
   "cell_type": "markdown",
   "metadata": {},
   "source": [
    "**Анализ датасета**<br />\n",
    "1. Исходный набор данных содержит 5000 записей о клиентах страховой компании.\n",
    "2. Данные содержат 153 дубликата, не требующих удаления\n",
    "3. Данные полны, не имеют выбросов\n",
    "4. Существует корелляция 0.65 между возрастом и количеством страховых случаев"
   ]
  },
  {
   "cell_type": "markdown",
   "metadata": {},
   "source": [
    "**Подготовка данных**<br />\n",
    "1. Произведено разделение датасета на тренировочную и валидационную выборку в пропорции 3:1\n",
    "2. Произведено масштабирование числовых признаков\n",
    "3. Произведено прямое кодирование категориальных признаков"
   ]
  },
  {
   "cell_type": "markdown",
   "metadata": {},
   "source": [
    "**Обучение модели**<br />\n",
    "1. На подготовленной обучающей выборке обучена модель LinearRegression\n",
    "2. Метрика R2 модели на обучающей выборке: 0.42"
   ]
  },
  {
   "cell_type": "markdown",
   "metadata": {},
   "source": [
    "## **Умножение матриц**"
   ]
  },
  {
   "cell_type": "markdown",
   "metadata": {},
   "source": [
    "### Постановка задачи: ###"
   ]
  },
  {
   "cell_type": "markdown",
   "metadata": {},
   "source": [
    " Признаки умножают на обратимую матрицу. Изменится ли качество линейной регрессии? (Её можно обучить заново.)"
   ]
  },
  {
   "cell_type": "markdown",
   "metadata": {},
   "source": [
    "Обозначения:\n",
    "\n",
    "- $X$ — матрица признаков (нулевой столбец состоит из единиц)\n",
    "\n",
    "- $y$ — вектор целевого признака\n",
    "\n",
    "- $P$ — матрица, на которую умножаются признаки\n",
    "\n",
    "- $w$ — вектор весов линейной регрессии (нулевой элемент равен сдвигу)\n",
    "\n",
    "- $w'$ — вектор весов линейной регрессии матрицы, полученной умножением матрицы признаков на обратимую матрицу (нулевой элемент равен сдвигу) (нулевой элемент равен сдвигу)\n",
    "- $a$ — предсказания по матрице признаков\n",
    "- $a'$ — предсказания по матрице признаков, умноженной на обратимую матрицу"
   ]
  },
  {
   "cell_type": "markdown",
   "metadata": {},
   "source": [
    "Предсказания:\n",
    "\n",
    "$$\n",
    "a = Xw\n",
    "$$\n",
    "\n",
    "Задача обучения:\n",
    "\n",
    "$$\n",
    "w = \\arg\\min_w MSE(Xw, y)\n",
    "$$\n",
    "\n",
    "Формула обучения:\n",
    "\n",
    "$$\n",
    "w = (X^T X)^{-1} X^T y\n",
    "$$"
   ]
  },
  {
   "cell_type": "markdown",
   "metadata": {},
   "source": [
    "### Ответ: ###\n",
    "Не изменится<br /><br />"
   ]
  },
  {
   "cell_type": "markdown",
   "metadata": {},
   "source": [
    "### Обоснование: ###"
   ]
  },
  {
   "cell_type": "markdown",
   "metadata": {},
   "source": [
    "Если $P$ - обратимая матрица, то предсказания, сделанные при умножении признаков на нее:\n",
    "$$\n",
    "a'= XPw'\n",
    "$$\n",
    "где \n",
    "$$\n",
    "w' = ((XP)^T XP)^{-1} (XP)^T y\n",
    "$$"
   ]
  },
  {
   "cell_type": "markdown",
   "metadata": {},
   "source": [
    "То есть, необходимо доказать, что \n",
    "$$ \n",
    "a = a'\n",
    "$$"
   ]
  },
  {
   "cell_type": "markdown",
   "metadata": {},
   "source": [
    "Преобразуем формулу обучения для матрицы, полученной умножением матрицы признаков на обратимую матрицу"
   ]
  },
  {
   "cell_type": "markdown",
   "metadata": {},
   "source": [
    "$$\n",
    "w' = ((XP)^T XP)^{-1} (XP)^T y\n",
    "$$"
   ]
  },
  {
   "cell_type": "markdown",
   "metadata": {},
   "source": [
    "$$\n",
    "w' = (P^T X^T X P)^{-1}) P^T X^T y\n",
    "$$"
   ]
  },
  {
   "cell_type": "markdown",
   "metadata": {},
   "source": [
    "$$\n",
    "w' = (P^T (X^T X) P)^{-1}) P^T X^T y\n",
    "$$"
   ]
  },
  {
   "cell_type": "markdown",
   "metadata": {},
   "source": [
    "$$\n",
    "w' = P^{-1} (X^T X)^{-1} (P^T)^{-1} P^T X^T y\n",
    "$$"
   ]
  },
  {
   "cell_type": "markdown",
   "metadata": {},
   "source": [
    "$$\n",
    "w' = P^{-1} (X^T X)^{-1} X^T y\n",
    "$$"
   ]
  },
  {
   "cell_type": "markdown",
   "metadata": {},
   "source": [
    "$$\n",
    "w' = P^{-1} w\n",
    "$$"
   ]
  },
  {
   "cell_type": "markdown",
   "metadata": {},
   "source": [
    "Тогда:\n",
    "$$\n",
    "a' = XPw'= XPP^{-1} w = Xw\n",
    "$$"
   ]
  },
  {
   "cell_type": "markdown",
   "metadata": {},
   "source": [
    "$$\n",
    "a' = a\n",
    "$$"
   ]
  },
  {
   "cell_type": "markdown",
   "metadata": {},
   "source": [
    "Что и требовалось доказать."
   ]
  },
  {
   "cell_type": "markdown",
   "metadata": {},
   "source": [
    "### Итог этапа:"
   ]
  },
  {
   "cell_type": "markdown",
   "metadata": {},
   "source": [
    " Доказано, что при создании признаков путем умножения их на обратимую матрицу и обучению по формуле линейной регрессии, предсказания модели не изменятся, а следовательно, не изменятся и значения любых метрик, оценивающих эту модель, по сравнению с исходной моделью."
   ]
  },
  {
   "cell_type": "markdown",
   "metadata": {},
   "source": [
    "## **Алгоритм преобразования**"
   ]
  },
  {
   "cell_type": "markdown",
   "metadata": {},
   "source": [
    "### Алгоритм\n",
    "1. Сгенерировать случайную квадратную матрицу размерностью, равной количеству признаков\n",
    "2. Проверить ее обратимость\n",
    "3. Если матрица необратима - вернуться на шаг 1\n",
    "4. Умножить признаки на полученную матрицу\n",
    "5. Обучить модель линейной регрессии на новых признаках."
   ]
  },
  {
   "cell_type": "markdown",
   "metadata": {},
   "source": [
    "### Обоснование\n",
    "В предыдущем разделе было доказано, что при создании признаков путем умножения их на обратимую матрицу и обучению по формуле линейной регрессии, предсказания модели не изменятся, а следовательно, не изменятся и значения любых метрик, оценивающих эту модель, по сравнению с исходной моделью."
   ]
  },
  {
   "cell_type": "markdown",
   "metadata": {},
   "source": [
    "### Реализация алгоритма"
   ]
  },
  {
   "cell_type": "markdown",
   "metadata": {},
   "source": [
    "#### Создание обратимой матрицы-ключа:"
   ]
  },
  {
   "cell_type": "code",
   "execution_count": 24,
   "metadata": {},
   "outputs": [
    {
     "data": {
      "text/plain": [
       "9"
      ]
     },
     "execution_count": 24,
     "metadata": {},
     "output_type": "execute_result"
    }
   ],
   "source": [
    "matrix_size = features_train.shape[1]\n",
    "matrix_size"
   ]
  },
  {
   "cell_type": "code",
   "execution_count": 25,
   "metadata": {},
   "outputs": [
    {
     "data": {
      "text/plain": [
       "array([[ 0.29905159, -0.45852233, -0.37826149,  0.17955956,  0.37070572,\n",
       "        -0.97962329, -2.46892022, -2.4682745 ,  1.14858342],\n",
       "       [-0.45378845,  0.02010792,  0.17281752,  0.28474913, -0.64722789,\n",
       "        -0.71887507,  0.25523283, -0.71845215,  2.55819589],\n",
       "       [ 1.51124808, -0.27253162,  0.11425607,  0.14547941, -0.81606232,\n",
       "        -0.26270928,  1.0452632 , -1.22839446, -0.48072707],\n",
       "       [-1.11721606,  0.14146166,  0.0955802 ,  0.03162739,  2.60041321,\n",
       "        -0.9749286 , -0.85592835,  0.42248756,  0.77640414],\n",
       "       [-0.31976956,  0.07009759,  0.28212255,  0.31317474, -0.49604768,\n",
       "         0.80776567,  1.93578559,  0.80544092,  1.41888269],\n",
       "       [ 0.22882287, -0.52710965,  0.11323121,  0.87349632,  1.86414945,\n",
       "        -0.43854336,  0.57548879, -0.49861662, -0.7421638 ],\n",
       "       [-0.42854697,  0.33574202, -1.17867897,  0.6295036 , -0.06752925,\n",
       "         0.95940547,  1.15561496, -1.44960164,  0.19920334],\n",
       "       [-0.33271129, -1.35235063,  0.72867818, -1.58548194, -0.06542588,\n",
       "         0.1944516 , -0.60155679,  0.891417  , -0.12569435],\n",
       "       [-0.61861051, -0.2269564 ,  0.90630022,  1.15636356, -1.62282102,\n",
       "         1.20840556,  1.02854291,  1.53058448,  1.38850641]])"
      ]
     },
     "execution_count": 25,
     "metadata": {},
     "output_type": "execute_result"
    }
   ],
   "source": [
    "det = 0 #Детерминант матрицы\n",
    "while det ==0:\n",
    "    key_matrix = np.random.randn(matrix_size,matrix_size)\n",
    "    det = np.linalg.det(key_matrix)\n",
    "key_matrix"
   ]
  },
  {
   "cell_type": "markdown",
   "metadata": {},
   "source": [
    "#### Умножение признаков на матрицу-ключ:"
   ]
  },
  {
   "cell_type": "code",
   "execution_count": 26,
   "metadata": {
    "scrolled": false
   },
   "outputs": [
    {
     "data": {
      "text/html": [
       "<div>\n",
       "<style scoped>\n",
       "    .dataframe tbody tr th:only-of-type {\n",
       "        vertical-align: middle;\n",
       "    }\n",
       "\n",
       "    .dataframe tbody tr th {\n",
       "        vertical-align: top;\n",
       "    }\n",
       "\n",
       "    .dataframe thead th {\n",
       "        text-align: right;\n",
       "    }\n",
       "</style>\n",
       "<table border=\"1\" class=\"dataframe\">\n",
       "  <thead>\n",
       "    <tr style=\"text-align: right;\">\n",
       "      <th></th>\n",
       "      <th>Пол</th>\n",
       "      <th>Возраст</th>\n",
       "      <th>Зарплата</th>\n",
       "      <th>Члены семьи_1</th>\n",
       "      <th>Члены семьи_2</th>\n",
       "      <th>Члены семьи_3</th>\n",
       "      <th>Члены семьи_4</th>\n",
       "      <th>Члены семьи_5</th>\n",
       "      <th>Члены семьи_6</th>\n",
       "    </tr>\n",
       "  </thead>\n",
       "  <tbody>\n",
       "    <tr>\n",
       "      <th>3369</th>\n",
       "      <td>1</td>\n",
       "      <td>1.41</td>\n",
       "      <td>-0.38</td>\n",
       "      <td>1.00</td>\n",
       "      <td>0.00</td>\n",
       "      <td>0.00</td>\n",
       "      <td>0.00</td>\n",
       "      <td>0.00</td>\n",
       "      <td>0.00</td>\n",
       "    </tr>\n",
       "    <tr>\n",
       "      <th>1441</th>\n",
       "      <td>1</td>\n",
       "      <td>0.35</td>\n",
       "      <td>1.79</td>\n",
       "      <td>0.00</td>\n",
       "      <td>0.00</td>\n",
       "      <td>0.00</td>\n",
       "      <td>0.00</td>\n",
       "      <td>0.00</td>\n",
       "      <td>0.00</td>\n",
       "    </tr>\n",
       "    <tr>\n",
       "      <th>571</th>\n",
       "      <td>0</td>\n",
       "      <td>0.11</td>\n",
       "      <td>0.12</td>\n",
       "      <td>1.00</td>\n",
       "      <td>0.00</td>\n",
       "      <td>0.00</td>\n",
       "      <td>0.00</td>\n",
       "      <td>0.00</td>\n",
       "      <td>0.00</td>\n",
       "    </tr>\n",
       "    <tr>\n",
       "      <th>225</th>\n",
       "      <td>0</td>\n",
       "      <td>0.59</td>\n",
       "      <td>0.52</td>\n",
       "      <td>1.00</td>\n",
       "      <td>0.00</td>\n",
       "      <td>0.00</td>\n",
       "      <td>0.00</td>\n",
       "      <td>0.00</td>\n",
       "      <td>0.00</td>\n",
       "    </tr>\n",
       "    <tr>\n",
       "      <th>2558</th>\n",
       "      <td>0</td>\n",
       "      <td>0.23</td>\n",
       "      <td>1.08</td>\n",
       "      <td>0.00</td>\n",
       "      <td>1.00</td>\n",
       "      <td>0.00</td>\n",
       "      <td>0.00</td>\n",
       "      <td>0.00</td>\n",
       "      <td>0.00</td>\n",
       "    </tr>\n",
       "  </tbody>\n",
       "</table>\n",
       "</div>"
      ],
      "text/plain": [
       "      Пол  Возраст  Зарплата  Члены семьи_1  Члены семьи_2  Члены семьи_3  \\\n",
       "3369    1     1.41     -0.38           1.00           0.00           0.00   \n",
       "1441    1     0.35      1.79           0.00           0.00           0.00   \n",
       "571     0     0.11      0.12           1.00           0.00           0.00   \n",
       "225     0     0.59      0.52           1.00           0.00           0.00   \n",
       "2558    0     0.23      1.08           0.00           1.00           0.00   \n",
       "\n",
       "      Члены семьи_4  Члены семьи_5  Члены семьи_6  \n",
       "3369           0.00           0.00           0.00  \n",
       "1441           0.00           0.00           0.00  \n",
       "571            0.00           0.00           0.00  \n",
       "225            0.00           0.00           0.00  \n",
       "2558           0.00           0.00           0.00  "
      ]
     },
     "execution_count": 26,
     "metadata": {},
     "output_type": "execute_result"
    }
   ],
   "source": [
    "features_train.head()"
   ]
  },
  {
   "cell_type": "code",
   "execution_count": 27,
   "metadata": {},
   "outputs": [
    {
     "data": {
      "text/html": [
       "<div>\n",
       "<style scoped>\n",
       "    .dataframe tbody tr th:only-of-type {\n",
       "        vertical-align: middle;\n",
       "    }\n",
       "\n",
       "    .dataframe tbody tr th {\n",
       "        vertical-align: top;\n",
       "    }\n",
       "\n",
       "    .dataframe thead th {\n",
       "        text-align: right;\n",
       "    }\n",
       "</style>\n",
       "<table border=\"1\" class=\"dataframe\">\n",
       "  <thead>\n",
       "    <tr style=\"text-align: right;\">\n",
       "      <th></th>\n",
       "      <th>Пол</th>\n",
       "      <th>Возраст</th>\n",
       "      <th>Зарплата</th>\n",
       "      <th>Члены семьи_1</th>\n",
       "      <th>Члены семьи_2</th>\n",
       "      <th>Члены семьи_3</th>\n",
       "      <th>Члены семьи_4</th>\n",
       "      <th>Члены семьи_5</th>\n",
       "      <th>Члены семьи_6</th>\n",
       "    </tr>\n",
       "  </thead>\n",
       "  <tbody>\n",
       "    <tr>\n",
       "      <th>3183</th>\n",
       "      <td>0</td>\n",
       "      <td>0.23</td>\n",
       "      <td>-0.09</td>\n",
       "      <td>0.00</td>\n",
       "      <td>0.00</td>\n",
       "      <td>0.00</td>\n",
       "      <td>1.00</td>\n",
       "      <td>0.00</td>\n",
       "      <td>0.00</td>\n",
       "    </tr>\n",
       "    <tr>\n",
       "      <th>1071</th>\n",
       "      <td>0</td>\n",
       "      <td>2.24</td>\n",
       "      <td>0.32</td>\n",
       "      <td>0.00</td>\n",
       "      <td>1.00</td>\n",
       "      <td>0.00</td>\n",
       "      <td>0.00</td>\n",
       "      <td>0.00</td>\n",
       "      <td>0.00</td>\n",
       "    </tr>\n",
       "    <tr>\n",
       "      <th>2640</th>\n",
       "      <td>1</td>\n",
       "      <td>0.94</td>\n",
       "      <td>0.22</td>\n",
       "      <td>0.00</td>\n",
       "      <td>0.00</td>\n",
       "      <td>0.00</td>\n",
       "      <td>0.00</td>\n",
       "      <td>0.00</td>\n",
       "      <td>0.00</td>\n",
       "    </tr>\n",
       "    <tr>\n",
       "      <th>2282</th>\n",
       "      <td>0</td>\n",
       "      <td>-1.31</td>\n",
       "      <td>-0.52</td>\n",
       "      <td>0.00</td>\n",
       "      <td>0.00</td>\n",
       "      <td>0.00</td>\n",
       "      <td>0.00</td>\n",
       "      <td>0.00</td>\n",
       "      <td>0.00</td>\n",
       "    </tr>\n",
       "    <tr>\n",
       "      <th>1595</th>\n",
       "      <td>0</td>\n",
       "      <td>1.18</td>\n",
       "      <td>0.01</td>\n",
       "      <td>0.00</td>\n",
       "      <td>0.00</td>\n",
       "      <td>0.00</td>\n",
       "      <td>1.00</td>\n",
       "      <td>0.00</td>\n",
       "      <td>0.00</td>\n",
       "    </tr>\n",
       "  </tbody>\n",
       "</table>\n",
       "</div>"
      ],
      "text/plain": [
       "      Пол  Возраст  Зарплата  Члены семьи_1  Члены семьи_2  Члены семьи_3  \\\n",
       "3183    0     0.23     -0.09           0.00           0.00           0.00   \n",
       "1071    0     2.24      0.32           0.00           1.00           0.00   \n",
       "2640    1     0.94      0.22           0.00           0.00           0.00   \n",
       "2282    0    -1.31     -0.52           0.00           0.00           0.00   \n",
       "1595    0     1.18      0.01           0.00           0.00           0.00   \n",
       "\n",
       "      Члены семьи_4  Члены семьи_5  Члены семьи_6  \n",
       "3183           1.00           0.00           0.00  \n",
       "1071           0.00           0.00           0.00  \n",
       "2640           0.00           0.00           0.00  \n",
       "2282           0.00           0.00           0.00  \n",
       "1595           1.00           0.00           0.00  "
      ]
     },
     "execution_count": 27,
     "metadata": {},
     "output_type": "execute_result"
    }
   ],
   "source": [
    "features_valid.head()"
   ]
  },
  {
   "cell_type": "code",
   "execution_count": 28,
   "metadata": {},
   "outputs": [],
   "source": [
    "features_matrix_train = features_train.dot(key_matrix)\n",
    "features_matrix_valid =  features_valid.dot(key_matrix)"
   ]
  },
  {
   "cell_type": "code",
   "execution_count": 29,
   "metadata": {
    "scrolled": true
   },
   "outputs": [
    {
     "data": {
      "text/html": [
       "<div>\n",
       "<style scoped>\n",
       "    .dataframe tbody tr th:only-of-type {\n",
       "        vertical-align: middle;\n",
       "    }\n",
       "\n",
       "    .dataframe tbody tr th {\n",
       "        vertical-align: top;\n",
       "    }\n",
       "\n",
       "    .dataframe thead th {\n",
       "        text-align: right;\n",
       "    }\n",
       "</style>\n",
       "<table border=\"1\" class=\"dataframe\">\n",
       "  <thead>\n",
       "    <tr style=\"text-align: right;\">\n",
       "      <th></th>\n",
       "      <th>0</th>\n",
       "      <th>1</th>\n",
       "      <th>2</th>\n",
       "      <th>3</th>\n",
       "      <th>4</th>\n",
       "      <th>5</th>\n",
       "      <th>6</th>\n",
       "      <th>7</th>\n",
       "      <th>8</th>\n",
       "    </tr>\n",
       "  </thead>\n",
       "  <tbody>\n",
       "    <tr>\n",
       "      <th>3369</th>\n",
       "      <td>-2.03</td>\n",
       "      <td>-0.19</td>\n",
       "      <td>-0.08</td>\n",
       "      <td>0.56</td>\n",
       "      <td>2.36</td>\n",
       "      <td>-2.87</td>\n",
       "      <td>-3.36</td>\n",
       "      <td>-2.60</td>\n",
       "      <td>5.72</td>\n",
       "    </tr>\n",
       "    <tr>\n",
       "      <th>1441</th>\n",
       "      <td>2.84</td>\n",
       "      <td>-0.94</td>\n",
       "      <td>-0.11</td>\n",
       "      <td>0.54</td>\n",
       "      <td>-1.32</td>\n",
       "      <td>-1.70</td>\n",
       "      <td>-0.51</td>\n",
       "      <td>-4.92</td>\n",
       "      <td>1.18</td>\n",
       "    </tr>\n",
       "    <tr>\n",
       "      <th>571</th>\n",
       "      <td>-0.99</td>\n",
       "      <td>0.11</td>\n",
       "      <td>0.13</td>\n",
       "      <td>0.08</td>\n",
       "      <td>2.43</td>\n",
       "      <td>-1.09</td>\n",
       "      <td>-0.70</td>\n",
       "      <td>0.20</td>\n",
       "      <td>1.01</td>\n",
       "    </tr>\n",
       "    <tr>\n",
       "      <th>225</th>\n",
       "      <td>-0.59</td>\n",
       "      <td>0.01</td>\n",
       "      <td>0.26</td>\n",
       "      <td>0.27</td>\n",
       "      <td>1.79</td>\n",
       "      <td>-1.53</td>\n",
       "      <td>-0.16</td>\n",
       "      <td>-0.64</td>\n",
       "      <td>2.02</td>\n",
       "    </tr>\n",
       "    <tr>\n",
       "      <th>2558</th>\n",
       "      <td>1.21</td>\n",
       "      <td>-0.22</td>\n",
       "      <td>0.45</td>\n",
       "      <td>0.54</td>\n",
       "      <td>-1.53</td>\n",
       "      <td>0.36</td>\n",
       "      <td>3.12</td>\n",
       "      <td>-0.69</td>\n",
       "      <td>1.49</td>\n",
       "    </tr>\n",
       "  </tbody>\n",
       "</table>\n",
       "</div>"
      ],
      "text/plain": [
       "         0     1     2    3     4     5     6     7    8\n",
       "3369 -2.03 -0.19 -0.08 0.56  2.36 -2.87 -3.36 -2.60 5.72\n",
       "1441  2.84 -0.94 -0.11 0.54 -1.32 -1.70 -0.51 -4.92 1.18\n",
       "571  -0.99  0.11  0.13 0.08  2.43 -1.09 -0.70  0.20 1.01\n",
       "225  -0.59  0.01  0.26 0.27  1.79 -1.53 -0.16 -0.64 2.02\n",
       "2558  1.21 -0.22  0.45 0.54 -1.53  0.36  3.12 -0.69 1.49"
      ]
     },
     "execution_count": 29,
     "metadata": {},
     "output_type": "execute_result"
    }
   ],
   "source": [
    "features_matrix_train.head()"
   ]
  },
  {
   "cell_type": "code",
   "execution_count": 30,
   "metadata": {},
   "outputs": [
    {
     "data": {
      "text/html": [
       "<div>\n",
       "<style scoped>\n",
       "    .dataframe tbody tr th:only-of-type {\n",
       "        vertical-align: middle;\n",
       "    }\n",
       "\n",
       "    .dataframe tbody tr th {\n",
       "        vertical-align: top;\n",
       "    }\n",
       "\n",
       "    .dataframe thead th {\n",
       "        text-align: right;\n",
       "    }\n",
       "</style>\n",
       "<table border=\"1\" class=\"dataframe\">\n",
       "  <thead>\n",
       "    <tr style=\"text-align: right;\">\n",
       "      <th></th>\n",
       "      <th>0</th>\n",
       "      <th>1</th>\n",
       "      <th>2</th>\n",
       "      <th>3</th>\n",
       "      <th>4</th>\n",
       "      <th>5</th>\n",
       "      <th>6</th>\n",
       "      <th>7</th>\n",
       "      <th>8</th>\n",
       "    </tr>\n",
       "  </thead>\n",
       "  <tbody>\n",
       "    <tr>\n",
       "      <th>3183</th>\n",
       "      <td>-0.68</td>\n",
       "      <td>0.37</td>\n",
       "      <td>-1.15</td>\n",
       "      <td>0.68</td>\n",
       "      <td>-0.14</td>\n",
       "      <td>0.82</td>\n",
       "      <td>1.12</td>\n",
       "      <td>-1.50</td>\n",
       "      <td>0.84</td>\n",
       "    </tr>\n",
       "    <tr>\n",
       "      <th>1071</th>\n",
       "      <td>-0.85</td>\n",
       "      <td>0.03</td>\n",
       "      <td>0.71</td>\n",
       "      <td>1.00</td>\n",
       "      <td>-2.21</td>\n",
       "      <td>-0.89</td>\n",
       "      <td>2.84</td>\n",
       "      <td>-1.20</td>\n",
       "      <td>7.00</td>\n",
       "    </tr>\n",
       "    <tr>\n",
       "      <th>2640</th>\n",
       "      <td>0.20</td>\n",
       "      <td>-0.50</td>\n",
       "      <td>-0.19</td>\n",
       "      <td>0.48</td>\n",
       "      <td>-0.42</td>\n",
       "      <td>-1.71</td>\n",
       "      <td>-2.00</td>\n",
       "      <td>-3.41</td>\n",
       "      <td>3.45</td>\n",
       "    </tr>\n",
       "    <tr>\n",
       "      <th>2282</th>\n",
       "      <td>-0.19</td>\n",
       "      <td>0.12</td>\n",
       "      <td>-0.29</td>\n",
       "      <td>-0.45</td>\n",
       "      <td>1.27</td>\n",
       "      <td>1.08</td>\n",
       "      <td>-0.88</td>\n",
       "      <td>1.58</td>\n",
       "      <td>-3.09</td>\n",
       "    </tr>\n",
       "    <tr>\n",
       "      <th>1595</th>\n",
       "      <td>-0.95</td>\n",
       "      <td>0.36</td>\n",
       "      <td>-0.97</td>\n",
       "      <td>0.97</td>\n",
       "      <td>-0.84</td>\n",
       "      <td>0.11</td>\n",
       "      <td>1.46</td>\n",
       "      <td>-2.30</td>\n",
       "      <td>3.21</td>\n",
       "    </tr>\n",
       "  </tbody>\n",
       "</table>\n",
       "</div>"
      ],
      "text/plain": [
       "         0     1     2     3     4     5     6     7     8\n",
       "3183 -0.68  0.37 -1.15  0.68 -0.14  0.82  1.12 -1.50  0.84\n",
       "1071 -0.85  0.03  0.71  1.00 -2.21 -0.89  2.84 -1.20  7.00\n",
       "2640  0.20 -0.50 -0.19  0.48 -0.42 -1.71 -2.00 -3.41  3.45\n",
       "2282 -0.19  0.12 -0.29 -0.45  1.27  1.08 -0.88  1.58 -3.09\n",
       "1595 -0.95  0.36 -0.97  0.97 -0.84  0.11  1.46 -2.30  3.21"
      ]
     },
     "execution_count": 30,
     "metadata": {},
     "output_type": "execute_result"
    }
   ],
   "source": [
    "features_matrix_valid.head()"
   ]
  },
  {
   "cell_type": "markdown",
   "metadata": {},
   "source": [
    "#### Обучение модели"
   ]
  },
  {
   "cell_type": "code",
   "execution_count": 31,
   "metadata": {},
   "outputs": [
    {
     "data": {
      "text/html": [
       "<style>#sk-container-id-3 {color: black;background-color: white;}#sk-container-id-3 pre{padding: 0;}#sk-container-id-3 div.sk-toggleable {background-color: white;}#sk-container-id-3 label.sk-toggleable__label {cursor: pointer;display: block;width: 100%;margin-bottom: 0;padding: 0.3em;box-sizing: border-box;text-align: center;}#sk-container-id-3 label.sk-toggleable__label-arrow:before {content: \"▸\";float: left;margin-right: 0.25em;color: #696969;}#sk-container-id-3 label.sk-toggleable__label-arrow:hover:before {color: black;}#sk-container-id-3 div.sk-estimator:hover label.sk-toggleable__label-arrow:before {color: black;}#sk-container-id-3 div.sk-toggleable__content {max-height: 0;max-width: 0;overflow: hidden;text-align: left;background-color: #f0f8ff;}#sk-container-id-3 div.sk-toggleable__content pre {margin: 0.2em;color: black;border-radius: 0.25em;background-color: #f0f8ff;}#sk-container-id-3 input.sk-toggleable__control:checked~div.sk-toggleable__content {max-height: 200px;max-width: 100%;overflow: auto;}#sk-container-id-3 input.sk-toggleable__control:checked~label.sk-toggleable__label-arrow:before {content: \"▾\";}#sk-container-id-3 div.sk-estimator input.sk-toggleable__control:checked~label.sk-toggleable__label {background-color: #d4ebff;}#sk-container-id-3 div.sk-label input.sk-toggleable__control:checked~label.sk-toggleable__label {background-color: #d4ebff;}#sk-container-id-3 input.sk-hidden--visually {border: 0;clip: rect(1px 1px 1px 1px);clip: rect(1px, 1px, 1px, 1px);height: 1px;margin: -1px;overflow: hidden;padding: 0;position: absolute;width: 1px;}#sk-container-id-3 div.sk-estimator {font-family: monospace;background-color: #f0f8ff;border: 1px dotted black;border-radius: 0.25em;box-sizing: border-box;margin-bottom: 0.5em;}#sk-container-id-3 div.sk-estimator:hover {background-color: #d4ebff;}#sk-container-id-3 div.sk-parallel-item::after {content: \"\";width: 100%;border-bottom: 1px solid gray;flex-grow: 1;}#sk-container-id-3 div.sk-label:hover label.sk-toggleable__label {background-color: #d4ebff;}#sk-container-id-3 div.sk-serial::before {content: \"\";position: absolute;border-left: 1px solid gray;box-sizing: border-box;top: 0;bottom: 0;left: 50%;z-index: 0;}#sk-container-id-3 div.sk-serial {display: flex;flex-direction: column;align-items: center;background-color: white;padding-right: 0.2em;padding-left: 0.2em;position: relative;}#sk-container-id-3 div.sk-item {position: relative;z-index: 1;}#sk-container-id-3 div.sk-parallel {display: flex;align-items: stretch;justify-content: center;background-color: white;position: relative;}#sk-container-id-3 div.sk-item::before, #sk-container-id-3 div.sk-parallel-item::before {content: \"\";position: absolute;border-left: 1px solid gray;box-sizing: border-box;top: 0;bottom: 0;left: 50%;z-index: -1;}#sk-container-id-3 div.sk-parallel-item {display: flex;flex-direction: column;z-index: 1;position: relative;background-color: white;}#sk-container-id-3 div.sk-parallel-item:first-child::after {align-self: flex-end;width: 50%;}#sk-container-id-3 div.sk-parallel-item:last-child::after {align-self: flex-start;width: 50%;}#sk-container-id-3 div.sk-parallel-item:only-child::after {width: 0;}#sk-container-id-3 div.sk-dashed-wrapped {border: 1px dashed gray;margin: 0 0.4em 0.5em 0.4em;box-sizing: border-box;padding-bottom: 0.4em;background-color: white;}#sk-container-id-3 div.sk-label label {font-family: monospace;font-weight: bold;display: inline-block;line-height: 1.2em;}#sk-container-id-3 div.sk-label-container {text-align: center;}#sk-container-id-3 div.sk-container {/* jupyter's `normalize.less` sets `[hidden] { display: none; }` but bootstrap.min.css set `[hidden] { display: none !important; }` so we also need the `!important` here to be able to override the default hidden behavior on the sphinx rendered scikit-learn.org. See: https://github.com/scikit-learn/scikit-learn/issues/21755 */display: inline-block !important;position: relative;}#sk-container-id-3 div.sk-text-repr-fallback {display: none;}</style><div id=\"sk-container-id-3\" class=\"sk-top-container\"><div class=\"sk-text-repr-fallback\"><pre>LinearRegression()</pre><b>In a Jupyter environment, please rerun this cell to show the HTML representation or trust the notebook. <br />On GitHub, the HTML representation is unable to render, please try loading this page with nbviewer.org.</b></div><div class=\"sk-container\" hidden><div class=\"sk-item\"><div class=\"sk-estimator sk-toggleable\"><input class=\"sk-toggleable__control sk-hidden--visually\" id=\"sk-estimator-id-3\" type=\"checkbox\" checked><label for=\"sk-estimator-id-3\" class=\"sk-toggleable__label sk-toggleable__label-arrow\">LinearRegression</label><div class=\"sk-toggleable__content\"><pre>LinearRegression()</pre></div></div></div></div></div>"
      ],
      "text/plain": [
       "LinearRegression()"
      ]
     },
     "execution_count": 31,
     "metadata": {},
     "output_type": "execute_result"
    }
   ],
   "source": [
    "model_1 = LinearRegression()\n",
    "model_1.fit(features_matrix_train, target_train)"
   ]
  },
  {
   "cell_type": "markdown",
   "metadata": {},
   "source": [
    "#### Метрика R2: ####"
   ]
  },
  {
   "cell_type": "code",
   "execution_count": 32,
   "metadata": {},
   "outputs": [
    {
     "name": "stdout",
     "output_type": "stream",
     "text": [
      "Метрика R2 исходной модели: 0.42\n"
     ]
    }
   ],
   "source": [
    "score_0 = model_0.score(features_train, target_train)\n",
    "print('Метрика R2 исходной модели: {:.2f}'.format(score_0))"
   ]
  },
  {
   "cell_type": "code",
   "execution_count": 33,
   "metadata": {
    "scrolled": true
   },
   "outputs": [
    {
     "name": "stdout",
     "output_type": "stream",
     "text": [
      "Метрика R2 модели на основе измененных данных: 0.42\n"
     ]
    }
   ],
   "source": [
    "score_1 = model_1.score(features_matrix_train, target_train)\n",
    "print('Метрика R2 модели на основе измененных данных: {:.2f}'.format(score_1))"
   ]
  },
  {
   "cell_type": "code",
   "execution_count": 34,
   "metadata": {},
   "outputs": [
    {
     "name": "stdout",
     "output_type": "stream",
     "text": [
      "Различие в оценке:1.11e-16 \n"
     ]
    }
   ],
   "source": [
    "print('Различие в оценке:{:.2e} '.format(abs(score_1-score_0)))"
   ]
  },
  {
   "cell_type": "markdown",
   "metadata": {},
   "source": [
    "Значения метрик практически совпадают"
   ]
  },
  {
   "cell_type": "markdown",
   "metadata": {},
   "source": [
    "### Итог этапа:"
   ]
  },
  {
   "cell_type": "markdown",
   "metadata": {},
   "source": [
    "1. Описан алгоритм\n",
    "2. Создана обратимая матрицы-ключ\n",
    "3. Признаки закодированы их умножением на матрицу-ключ\n",
    "4. Обучена модель LinearRegression\n",
    "5. Метрики R2 для полученной и исходной моделей на обучающей выборке практически совпадают"
   ]
  },
  {
   "cell_type": "markdown",
   "metadata": {},
   "source": [
    "## **Проверка алгоритма**"
   ]
  },
  {
   "cell_type": "markdown",
   "metadata": {},
   "source": [
    "### Проверка алгоритма на валидационных данных:"
   ]
  },
  {
   "cell_type": "code",
   "execution_count": 35,
   "metadata": {},
   "outputs": [
    {
     "data": {
      "text/plain": [
       "0.43508174579902115"
      ]
     },
     "execution_count": 35,
     "metadata": {},
     "output_type": "execute_result"
    }
   ],
   "source": [
    "score_0 = model_0.score(features_valid, target_valid)\n",
    "score_0"
   ]
  },
  {
   "cell_type": "code",
   "execution_count": 36,
   "metadata": {},
   "outputs": [
    {
     "data": {
      "text/plain": [
       "0.43508174579902115"
      ]
     },
     "execution_count": 36,
     "metadata": {},
     "output_type": "execute_result"
    }
   ],
   "source": [
    "score_1 = model_1.score(features_matrix_valid, target_valid)\n",
    "score_1"
   ]
  },
  {
   "cell_type": "code",
   "execution_count": 37,
   "metadata": {},
   "outputs": [
    {
     "name": "stdout",
     "output_type": "stream",
     "text": [
      "Различие в оценке:0.00e+00 \n"
     ]
    }
   ],
   "source": [
    "print('Различие в оценке:{:.2e} '.format(abs(score_1-score_0)))"
   ]
  },
  {
   "cell_type": "markdown",
   "metadata": {},
   "source": [
    "Значения метрик совпадают"
   ]
  },
  {
   "cell_type": "markdown",
   "metadata": {},
   "source": [
    "### Восстановление данных"
   ]
  },
  {
   "cell_type": "code",
   "execution_count": 38,
   "metadata": {},
   "outputs": [
    {
     "data": {
      "text/html": [
       "<div>\n",
       "<style scoped>\n",
       "    .dataframe tbody tr th:only-of-type {\n",
       "        vertical-align: middle;\n",
       "    }\n",
       "\n",
       "    .dataframe tbody tr th {\n",
       "        vertical-align: top;\n",
       "    }\n",
       "\n",
       "    .dataframe thead th {\n",
       "        text-align: right;\n",
       "    }\n",
       "</style>\n",
       "<table border=\"1\" class=\"dataframe\">\n",
       "  <thead>\n",
       "    <tr style=\"text-align: right;\">\n",
       "      <th></th>\n",
       "      <th>Пол</th>\n",
       "      <th>Возраст</th>\n",
       "      <th>Зарплата</th>\n",
       "      <th>Члены семьи_1</th>\n",
       "      <th>Члены семьи_2</th>\n",
       "      <th>Члены семьи_3</th>\n",
       "      <th>Члены семьи_4</th>\n",
       "      <th>Члены семьи_5</th>\n",
       "      <th>Члены семьи_6</th>\n",
       "    </tr>\n",
       "  </thead>\n",
       "  <tbody>\n",
       "    <tr>\n",
       "      <th>3369</th>\n",
       "      <td>1.00</td>\n",
       "      <td>1.41</td>\n",
       "      <td>-0.38</td>\n",
       "      <td>1.00</td>\n",
       "      <td>-0.00</td>\n",
       "      <td>-0.00</td>\n",
       "      <td>0.00</td>\n",
       "      <td>0.00</td>\n",
       "      <td>0.00</td>\n",
       "    </tr>\n",
       "    <tr>\n",
       "      <th>1441</th>\n",
       "      <td>1.00</td>\n",
       "      <td>0.35</td>\n",
       "      <td>1.79</td>\n",
       "      <td>-0.00</td>\n",
       "      <td>-0.00</td>\n",
       "      <td>0.00</td>\n",
       "      <td>-0.00</td>\n",
       "      <td>-0.00</td>\n",
       "      <td>0.00</td>\n",
       "    </tr>\n",
       "    <tr>\n",
       "      <th>571</th>\n",
       "      <td>0.00</td>\n",
       "      <td>0.11</td>\n",
       "      <td>0.12</td>\n",
       "      <td>1.00</td>\n",
       "      <td>-0.00</td>\n",
       "      <td>-0.00</td>\n",
       "      <td>0.00</td>\n",
       "      <td>0.00</td>\n",
       "      <td>0.00</td>\n",
       "    </tr>\n",
       "    <tr>\n",
       "      <th>225</th>\n",
       "      <td>-0.00</td>\n",
       "      <td>0.59</td>\n",
       "      <td>0.52</td>\n",
       "      <td>1.00</td>\n",
       "      <td>-0.00</td>\n",
       "      <td>-0.00</td>\n",
       "      <td>0.00</td>\n",
       "      <td>0.00</td>\n",
       "      <td>0.00</td>\n",
       "    </tr>\n",
       "    <tr>\n",
       "      <th>2558</th>\n",
       "      <td>0.00</td>\n",
       "      <td>0.23</td>\n",
       "      <td>1.08</td>\n",
       "      <td>-0.00</td>\n",
       "      <td>1.00</td>\n",
       "      <td>0.00</td>\n",
       "      <td>-0.00</td>\n",
       "      <td>-0.00</td>\n",
       "      <td>0.00</td>\n",
       "    </tr>\n",
       "  </tbody>\n",
       "</table>\n",
       "</div>"
      ],
      "text/plain": [
       "       Пол  Возраст  Зарплата  Члены семьи_1  Члены семьи_2  Члены семьи_3  \\\n",
       "3369  1.00     1.41     -0.38           1.00          -0.00          -0.00   \n",
       "1441  1.00     0.35      1.79          -0.00          -0.00           0.00   \n",
       "571   0.00     0.11      0.12           1.00          -0.00          -0.00   \n",
       "225  -0.00     0.59      0.52           1.00          -0.00          -0.00   \n",
       "2558  0.00     0.23      1.08          -0.00           1.00           0.00   \n",
       "\n",
       "      Члены семьи_4  Члены семьи_5  Члены семьи_6  \n",
       "3369           0.00           0.00           0.00  \n",
       "1441          -0.00          -0.00           0.00  \n",
       "571            0.00           0.00           0.00  \n",
       "225            0.00           0.00           0.00  \n",
       "2558          -0.00          -0.00           0.00  "
      ]
     },
     "execution_count": 38,
     "metadata": {},
     "output_type": "execute_result"
    }
   ],
   "source": [
    "features_back_train = features_matrix_train.dot(np.linalg.inv(key_matrix))\n",
    "features_back_train.columns = features_train.columns\n",
    "features_back_train.head()"
   ]
  },
  {
   "cell_type": "markdown",
   "metadata": {},
   "source": [
    "Данные восстановлены"
   ]
  },
  {
   "cell_type": "markdown",
   "metadata": {},
   "source": [
    "### Итог этапа:"
   ]
  },
  {
   "cell_type": "markdown",
   "metadata": {},
   "source": [
    "1. Метрики R2 для полученной и исходной моделей на валидационной выборке совпадают\n",
    "2. При умножении закодированнных признаков на матрицу, обратную матрице-ключу, данные признаков восстанавливаются"
   ]
  },
  {
   "cell_type": "markdown",
   "metadata": {},
   "source": [
    "## **Итог проекта:** ## "
   ]
  },
  {
   "cell_type": "markdown",
   "metadata": {},
   "source": [
    "**Анализ датасета**<br />\n",
    "1. Исходный набор данных содержит 5000 записей о клиентах страховой компании.\n",
    "2. Данные содержат 153 дубликата, не требующих удаления\n",
    "3. Данные полны, не имеют выбросов\n",
    "4. Существует корелляция 0.65 между возрастом и количеством страховых случаев"
   ]
  },
  {
   "cell_type": "markdown",
   "metadata": {},
   "source": [
    "**Подготовка данных**<br />\n",
    "1. Произведено разделение датасета на тренировочную и валидационную выборку в пропорции 3:1\n",
    "2. Произведено масштабирование числовых признаков\n",
    "3. Произведено прямое кодирование категориальных признаков"
   ]
  },
  {
   "cell_type": "markdown",
   "metadata": {},
   "source": [
    "**Обучение модели**<br />\n",
    "1. На подготовленной обучающей выборке обучена модель LinearRegression\n",
    "2. Метрика R2 модели на обучающей выборке: 0.42"
   ]
  },
  {
   "cell_type": "markdown",
   "metadata": {},
   "source": [
    "**Умножение матриц**"
   ]
  },
  {
   "cell_type": "markdown",
   "metadata": {},
   "source": [
    " Доказано, что при создании признаков путем умножения их на обратимую матрицу и обучению по формуле линейной регрессии, предсказания модели не изменятся, а следовательно, не изменятся и значения любых метрик, оценивающих эту модель, по сравнению с исходной моделью."
   ]
  },
  {
   "cell_type": "markdown",
   "metadata": {},
   "source": [
    "**Алгоритм преобразования**"
   ]
  },
  {
   "cell_type": "markdown",
   "metadata": {},
   "source": [
    "1. Описан алгоритм\n",
    "2. Создана обратимая матрицы-ключ\n",
    "3. Признаки закодированы их умножением на матрицу-ключ\n",
    "4. Обучена модель LinearRegression\n",
    "5. Метрики R2 для полученной и исходной моделей на обучающей выборке практически совпадают\n",
    "6. Метрики R2 для полученной и исходной моделей на валидационной выборке совпадают\n",
    "7. При умножении закодированнных признаков на матрицу, обратную матрице-ключу, данные признаков восстанавливаются"
   ]
  },
  {
   "cell_type": "markdown",
   "metadata": {},
   "source": [
    "**Результат**"
   ]
  },
  {
   "cell_type": "markdown",
   "metadata": {},
   "source": [
    "Для защиты данных клиентов страховой компании «Хоть потоп» рекомендуется использовать следующее их преобразование:<br />\n",
    "Шаг 1. Масштабирование данных.<br />\n",
    "Шаг 2. Умножение данных на обратимую матрицу размерностью, равной количеству признаков"
   ]
  }
 ],
 "metadata": {
  "ExecuteTimeLog": [
   {
    "duration": 2191,
    "start_time": "2023-03-07T04:41:44.079Z"
   },
   {
    "duration": 3,
    "start_time": "2023-03-07T04:41:46.272Z"
   },
   {
    "duration": 4,
    "start_time": "2023-03-07T04:41:48.052Z"
   },
   {
    "duration": 5,
    "start_time": "2023-03-07T04:42:53.914Z"
   },
   {
    "duration": 8,
    "start_time": "2023-03-07T04:43:40.769Z"
   },
   {
    "duration": 9,
    "start_time": "2023-03-07T04:45:04.439Z"
   },
   {
    "duration": 102,
    "start_time": "2023-03-07T04:45:06.147Z"
   },
   {
    "duration": 3039,
    "start_time": "2023-03-07T04:45:30.240Z"
   },
   {
    "duration": 7,
    "start_time": "2023-03-07T04:45:46.323Z"
   },
   {
    "duration": 12,
    "start_time": "2023-03-07T04:47:45.884Z"
   },
   {
    "duration": 3,
    "start_time": "2023-03-07T04:47:48.123Z"
   },
   {
    "duration": 11,
    "start_time": "2023-03-07T04:47:48.827Z"
   },
   {
    "duration": 2,
    "start_time": "2023-03-07T04:47:50.178Z"
   },
   {
    "duration": 5,
    "start_time": "2023-03-07T04:47:54.059Z"
   },
   {
    "duration": 6,
    "start_time": "2023-03-07T04:47:54.517Z"
   },
   {
    "duration": 7,
    "start_time": "2023-03-07T04:47:56.744Z"
   },
   {
    "duration": 97,
    "start_time": "2023-03-07T04:47:58.396Z"
   },
   {
    "duration": 14,
    "start_time": "2023-03-07T04:47:59.139Z"
   },
   {
    "duration": 4,
    "start_time": "2023-03-07T04:48:10.209Z"
   },
   {
    "duration": 9,
    "start_time": "2023-03-07T04:48:10.692Z"
   },
   {
    "duration": 7,
    "start_time": "2023-03-07T04:48:11.369Z"
   },
   {
    "duration": 31,
    "start_time": "2023-03-07T04:48:11.727Z"
   },
   {
    "duration": 2921,
    "start_time": "2023-03-07T04:48:12.227Z"
   },
   {
    "duration": 8,
    "start_time": "2023-03-07T04:48:15.151Z"
   },
   {
    "duration": 14,
    "start_time": "2023-03-07T04:48:15.160Z"
   },
   {
    "duration": 3,
    "start_time": "2023-03-07T04:48:15.176Z"
   },
   {
    "duration": 13,
    "start_time": "2023-03-07T04:48:15.181Z"
   },
   {
    "duration": 7,
    "start_time": "2023-03-07T04:48:15.196Z"
   },
   {
    "duration": 5,
    "start_time": "2023-03-07T04:48:15.244Z"
   },
   {
    "duration": 5,
    "start_time": "2023-03-07T04:48:15.389Z"
   },
   {
    "duration": 9,
    "start_time": "2023-03-07T04:48:16.017Z"
   },
   {
    "duration": 9,
    "start_time": "2023-03-07T04:48:16.184Z"
   },
   {
    "duration": 15,
    "start_time": "2023-03-07T04:48:16.367Z"
   },
   {
    "duration": 12,
    "start_time": "2023-03-07T04:48:16.524Z"
   },
   {
    "duration": 1717,
    "start_time": "2023-03-07T07:56:01.688Z"
   },
   {
    "duration": 3,
    "start_time": "2023-03-07T07:56:03.407Z"
   },
   {
    "duration": 44,
    "start_time": "2023-03-07T07:56:03.411Z"
   },
   {
    "duration": 15,
    "start_time": "2023-03-07T07:56:03.458Z"
   },
   {
    "duration": 11,
    "start_time": "2023-03-07T07:56:03.477Z"
   },
   {
    "duration": 134,
    "start_time": "2023-03-07T07:56:03.490Z"
   },
   {
    "duration": 3694,
    "start_time": "2023-03-07T07:56:03.626Z"
   },
   {
    "duration": 8,
    "start_time": "2023-03-07T07:56:07.323Z"
   },
   {
    "duration": 39,
    "start_time": "2023-03-07T07:56:07.333Z"
   },
   {
    "duration": 8,
    "start_time": "2023-03-07T07:56:07.375Z"
   },
   {
    "duration": 27,
    "start_time": "2023-03-07T07:56:07.384Z"
   },
   {
    "duration": 16,
    "start_time": "2023-03-07T07:56:07.413Z"
   },
   {
    "duration": 13,
    "start_time": "2023-03-07T07:56:07.431Z"
   },
   {
    "duration": 14,
    "start_time": "2023-03-07T07:56:07.446Z"
   },
   {
    "duration": 16,
    "start_time": "2023-03-07T07:56:07.465Z"
   },
   {
    "duration": 114,
    "start_time": "2023-03-07T07:56:07.482Z"
   },
   {
    "duration": 0,
    "start_time": "2023-03-07T07:56:07.598Z"
   },
   {
    "duration": 0,
    "start_time": "2023-03-07T07:56:07.599Z"
   },
   {
    "duration": 0,
    "start_time": "2023-03-07T07:56:07.600Z"
   },
   {
    "duration": 0,
    "start_time": "2023-03-07T07:56:07.601Z"
   },
   {
    "duration": 0,
    "start_time": "2023-03-07T07:56:07.602Z"
   },
   {
    "duration": 0,
    "start_time": "2023-03-07T07:56:07.603Z"
   },
   {
    "duration": 0,
    "start_time": "2023-03-07T07:56:07.605Z"
   },
   {
    "duration": 0,
    "start_time": "2023-03-07T07:56:07.606Z"
   },
   {
    "duration": 0,
    "start_time": "2023-03-07T07:56:07.607Z"
   },
   {
    "duration": 0,
    "start_time": "2023-03-07T07:56:07.608Z"
   },
   {
    "duration": 0,
    "start_time": "2023-03-07T07:56:07.610Z"
   },
   {
    "duration": 0,
    "start_time": "2023-03-07T07:56:07.611Z"
   },
   {
    "duration": 0,
    "start_time": "2023-03-07T07:56:07.612Z"
   },
   {
    "duration": 0,
    "start_time": "2023-03-07T07:56:07.613Z"
   },
   {
    "duration": 0,
    "start_time": "2023-03-07T07:56:07.615Z"
   },
   {
    "duration": 0,
    "start_time": "2023-03-07T07:56:07.616Z"
   },
   {
    "duration": 0,
    "start_time": "2023-03-07T07:56:07.617Z"
   },
   {
    "duration": 0,
    "start_time": "2023-03-07T07:56:07.657Z"
   },
   {
    "duration": 0,
    "start_time": "2023-03-07T07:56:07.658Z"
   },
   {
    "duration": 0,
    "start_time": "2023-03-07T07:56:07.659Z"
   },
   {
    "duration": 0,
    "start_time": "2023-03-07T07:56:07.660Z"
   },
   {
    "duration": 0,
    "start_time": "2023-03-07T07:56:07.661Z"
   },
   {
    "duration": 8337,
    "start_time": "2023-03-07T07:56:47.883Z"
   },
   {
    "duration": 2588,
    "start_time": "2023-03-07T07:57:11.582Z"
   },
   {
    "duration": 8,
    "start_time": "2023-03-07T07:57:14.172Z"
   },
   {
    "duration": 4,
    "start_time": "2023-03-07T07:57:14.184Z"
   },
   {
    "duration": 12,
    "start_time": "2023-03-07T07:57:14.191Z"
   },
   {
    "duration": 10,
    "start_time": "2023-03-07T07:57:14.206Z"
   },
   {
    "duration": 74,
    "start_time": "2023-03-07T07:57:14.218Z"
   },
   {
    "duration": 3624,
    "start_time": "2023-03-07T07:57:14.294Z"
   },
   {
    "duration": 9,
    "start_time": "2023-03-07T07:57:17.921Z"
   },
   {
    "duration": 40,
    "start_time": "2023-03-07T07:57:17.932Z"
   },
   {
    "duration": 4,
    "start_time": "2023-03-07T07:57:17.975Z"
   },
   {
    "duration": 18,
    "start_time": "2023-03-07T07:57:17.984Z"
   },
   {
    "duration": 26,
    "start_time": "2023-03-07T07:57:18.003Z"
   },
   {
    "duration": 10,
    "start_time": "2023-03-07T07:57:18.031Z"
   },
   {
    "duration": 6,
    "start_time": "2023-03-07T07:57:18.044Z"
   },
   {
    "duration": 25,
    "start_time": "2023-03-07T07:57:18.052Z"
   },
   {
    "duration": 14,
    "start_time": "2023-03-07T07:57:18.081Z"
   },
   {
    "duration": 0,
    "start_time": "2023-03-07T07:57:18.263Z"
   },
   {
    "duration": 0,
    "start_time": "2023-03-07T07:57:18.264Z"
   },
   {
    "duration": 0,
    "start_time": "2023-03-07T07:57:18.265Z"
   },
   {
    "duration": 0,
    "start_time": "2023-03-07T07:57:18.265Z"
   },
   {
    "duration": 0,
    "start_time": "2023-03-07T07:57:18.266Z"
   },
   {
    "duration": 0,
    "start_time": "2023-03-07T07:57:18.267Z"
   },
   {
    "duration": 0,
    "start_time": "2023-03-07T07:57:18.268Z"
   },
   {
    "duration": 0,
    "start_time": "2023-03-07T07:57:18.269Z"
   },
   {
    "duration": 0,
    "start_time": "2023-03-07T07:57:18.274Z"
   },
   {
    "duration": 0,
    "start_time": "2023-03-07T07:57:18.275Z"
   },
   {
    "duration": 0,
    "start_time": "2023-03-07T07:57:18.276Z"
   },
   {
    "duration": 0,
    "start_time": "2023-03-07T07:57:18.276Z"
   },
   {
    "duration": 0,
    "start_time": "2023-03-07T07:57:18.277Z"
   },
   {
    "duration": 0,
    "start_time": "2023-03-07T07:57:18.278Z"
   },
   {
    "duration": 0,
    "start_time": "2023-03-07T07:57:18.278Z"
   },
   {
    "duration": 0,
    "start_time": "2023-03-07T07:57:18.279Z"
   },
   {
    "duration": 0,
    "start_time": "2023-03-07T07:57:18.280Z"
   },
   {
    "duration": 0,
    "start_time": "2023-03-07T07:57:18.280Z"
   },
   {
    "duration": 0,
    "start_time": "2023-03-07T07:57:18.281Z"
   },
   {
    "duration": 0,
    "start_time": "2023-03-07T07:57:18.282Z"
   },
   {
    "duration": 0,
    "start_time": "2023-03-07T07:57:18.286Z"
   },
   {
    "duration": 1,
    "start_time": "2023-03-07T07:57:18.287Z"
   },
   {
    "duration": 2607,
    "start_time": "2023-03-07T07:58:07.788Z"
   },
   {
    "duration": 4,
    "start_time": "2023-03-07T07:58:10.397Z"
   },
   {
    "duration": 8,
    "start_time": "2023-03-07T07:58:10.402Z"
   },
   {
    "duration": 34,
    "start_time": "2023-03-07T07:58:10.413Z"
   },
   {
    "duration": 19,
    "start_time": "2023-03-07T07:58:10.450Z"
   },
   {
    "duration": 54,
    "start_time": "2023-03-07T07:58:10.483Z"
   },
   {
    "duration": 3808,
    "start_time": "2023-03-07T07:58:10.539Z"
   },
   {
    "duration": 24,
    "start_time": "2023-03-07T07:58:14.349Z"
   },
   {
    "duration": 13,
    "start_time": "2023-03-07T07:58:14.380Z"
   },
   {
    "duration": 5,
    "start_time": "2023-03-07T07:58:14.396Z"
   },
   {
    "duration": 12,
    "start_time": "2023-03-07T07:58:14.403Z"
   },
   {
    "duration": 8,
    "start_time": "2023-03-07T07:58:14.417Z"
   },
   {
    "duration": 41,
    "start_time": "2023-03-07T07:58:14.427Z"
   },
   {
    "duration": 11,
    "start_time": "2023-03-07T07:58:14.470Z"
   },
   {
    "duration": 26,
    "start_time": "2023-03-07T07:58:14.483Z"
   },
   {
    "duration": 13,
    "start_time": "2023-03-07T07:58:14.511Z"
   },
   {
    "duration": 0,
    "start_time": "2023-03-07T07:58:14.526Z"
   },
   {
    "duration": 0,
    "start_time": "2023-03-07T07:58:14.528Z"
   },
   {
    "duration": 0,
    "start_time": "2023-03-07T07:58:14.529Z"
   },
   {
    "duration": 0,
    "start_time": "2023-03-07T07:58:14.530Z"
   },
   {
    "duration": 0,
    "start_time": "2023-03-07T07:58:14.531Z"
   },
   {
    "duration": 0,
    "start_time": "2023-03-07T07:58:14.532Z"
   },
   {
    "duration": 0,
    "start_time": "2023-03-07T07:58:14.533Z"
   },
   {
    "duration": 0,
    "start_time": "2023-03-07T07:58:14.535Z"
   },
   {
    "duration": 0,
    "start_time": "2023-03-07T07:58:14.536Z"
   },
   {
    "duration": 0,
    "start_time": "2023-03-07T07:58:14.537Z"
   },
   {
    "duration": 0,
    "start_time": "2023-03-07T07:58:14.537Z"
   },
   {
    "duration": 0,
    "start_time": "2023-03-07T07:58:14.539Z"
   },
   {
    "duration": 0,
    "start_time": "2023-03-07T07:58:14.540Z"
   },
   {
    "duration": 0,
    "start_time": "2023-03-07T07:58:14.541Z"
   },
   {
    "duration": 0,
    "start_time": "2023-03-07T07:58:14.541Z"
   },
   {
    "duration": 0,
    "start_time": "2023-03-07T07:58:14.543Z"
   },
   {
    "duration": 0,
    "start_time": "2023-03-07T07:58:14.543Z"
   },
   {
    "duration": 0,
    "start_time": "2023-03-07T07:58:14.557Z"
   },
   {
    "duration": 0,
    "start_time": "2023-03-07T07:58:14.558Z"
   },
   {
    "duration": 0,
    "start_time": "2023-03-07T07:58:14.559Z"
   },
   {
    "duration": 0,
    "start_time": "2023-03-07T07:58:14.560Z"
   },
   {
    "duration": 0,
    "start_time": "2023-03-07T07:58:14.560Z"
   },
   {
    "duration": 3394,
    "start_time": "2023-03-07T08:02:12.285Z"
   },
   {
    "duration": 4,
    "start_time": "2023-03-07T08:02:15.681Z"
   },
   {
    "duration": 4,
    "start_time": "2023-03-07T08:02:15.687Z"
   },
   {
    "duration": 9,
    "start_time": "2023-03-07T08:02:15.693Z"
   },
   {
    "duration": 9,
    "start_time": "2023-03-07T08:02:15.705Z"
   },
   {
    "duration": 71,
    "start_time": "2023-03-07T08:02:15.715Z"
   },
   {
    "duration": 5407,
    "start_time": "2023-03-07T08:02:15.788Z"
   },
   {
    "duration": 9,
    "start_time": "2023-03-07T08:02:21.197Z"
   },
   {
    "duration": 33,
    "start_time": "2023-03-07T08:02:21.208Z"
   },
   {
    "duration": 24,
    "start_time": "2023-03-07T08:02:21.244Z"
   },
   {
    "duration": 20,
    "start_time": "2023-03-07T08:02:21.272Z"
   },
   {
    "duration": 19,
    "start_time": "2023-03-07T08:02:21.294Z"
   },
   {
    "duration": 22,
    "start_time": "2023-03-07T08:02:21.314Z"
   },
   {
    "duration": 31,
    "start_time": "2023-03-07T08:02:21.340Z"
   },
   {
    "duration": 8,
    "start_time": "2023-03-07T08:02:21.373Z"
   },
   {
    "duration": 46,
    "start_time": "2023-03-07T08:02:21.383Z"
   },
   {
    "duration": 0,
    "start_time": "2023-03-07T08:02:21.431Z"
   },
   {
    "duration": 0,
    "start_time": "2023-03-07T08:02:21.432Z"
   },
   {
    "duration": 0,
    "start_time": "2023-03-07T08:02:21.434Z"
   },
   {
    "duration": 0,
    "start_time": "2023-03-07T08:02:21.435Z"
   },
   {
    "duration": 0,
    "start_time": "2023-03-07T08:02:21.437Z"
   },
   {
    "duration": 0,
    "start_time": "2023-03-07T08:02:21.439Z"
   },
   {
    "duration": 0,
    "start_time": "2023-03-07T08:02:21.440Z"
   },
   {
    "duration": 0,
    "start_time": "2023-03-07T08:02:21.442Z"
   },
   {
    "duration": 0,
    "start_time": "2023-03-07T08:02:21.443Z"
   },
   {
    "duration": 0,
    "start_time": "2023-03-07T08:02:21.444Z"
   },
   {
    "duration": 0,
    "start_time": "2023-03-07T08:02:21.446Z"
   },
   {
    "duration": 0,
    "start_time": "2023-03-07T08:02:21.447Z"
   },
   {
    "duration": 0,
    "start_time": "2023-03-07T08:02:21.448Z"
   },
   {
    "duration": 0,
    "start_time": "2023-03-07T08:02:21.449Z"
   },
   {
    "duration": 0,
    "start_time": "2023-03-07T08:02:21.449Z"
   },
   {
    "duration": 0,
    "start_time": "2023-03-07T08:02:21.450Z"
   },
   {
    "duration": 0,
    "start_time": "2023-03-07T08:02:21.457Z"
   },
   {
    "duration": 0,
    "start_time": "2023-03-07T08:02:21.462Z"
   },
   {
    "duration": 0,
    "start_time": "2023-03-07T08:02:21.463Z"
   },
   {
    "duration": 0,
    "start_time": "2023-03-07T08:02:21.465Z"
   },
   {
    "duration": 0,
    "start_time": "2023-03-07T08:02:21.466Z"
   },
   {
    "duration": 0,
    "start_time": "2023-03-07T08:02:21.467Z"
   },
   {
    "duration": 3,
    "start_time": "2023-03-07T08:04:41.803Z"
   },
   {
    "duration": 14,
    "start_time": "2023-03-07T08:04:44.502Z"
   },
   {
    "duration": 2345,
    "start_time": "2023-03-07T08:04:49.581Z"
   },
   {
    "duration": 4,
    "start_time": "2023-03-07T08:04:51.928Z"
   },
   {
    "duration": 9,
    "start_time": "2023-03-07T08:04:51.933Z"
   },
   {
    "duration": 14,
    "start_time": "2023-03-07T08:04:51.943Z"
   },
   {
    "duration": 19,
    "start_time": "2023-03-07T08:04:51.963Z"
   },
   {
    "duration": 111,
    "start_time": "2023-03-07T08:04:51.987Z"
   },
   {
    "duration": 4019,
    "start_time": "2023-03-07T08:04:52.100Z"
   },
   {
    "duration": 10,
    "start_time": "2023-03-07T08:04:56.122Z"
   },
   {
    "duration": 31,
    "start_time": "2023-03-07T08:04:56.134Z"
   },
   {
    "duration": 12,
    "start_time": "2023-03-07T08:04:56.167Z"
   },
   {
    "duration": 18,
    "start_time": "2023-03-07T08:04:56.189Z"
   },
   {
    "duration": 10,
    "start_time": "2023-03-07T08:04:56.209Z"
   },
   {
    "duration": 16,
    "start_time": "2023-03-07T08:04:56.222Z"
   },
   {
    "duration": 11,
    "start_time": "2023-03-07T08:04:56.241Z"
   },
   {
    "duration": 181,
    "start_time": "2023-03-07T08:04:56.259Z"
   },
   {
    "duration": 18,
    "start_time": "2023-03-07T08:04:56.441Z"
   },
   {
    "duration": 27,
    "start_time": "2023-03-07T08:04:56.461Z"
   },
   {
    "duration": 13,
    "start_time": "2023-03-07T08:04:56.490Z"
   },
   {
    "duration": 23,
    "start_time": "2023-03-07T08:04:56.505Z"
   },
   {
    "duration": 117,
    "start_time": "2023-03-07T08:04:56.530Z"
   },
   {
    "duration": 25,
    "start_time": "2023-03-07T08:04:56.650Z"
   },
   {
    "duration": 34,
    "start_time": "2023-03-07T08:04:56.677Z"
   },
   {
    "duration": 192,
    "start_time": "2023-03-07T08:04:56.714Z"
   },
   {
    "duration": 9,
    "start_time": "2023-03-07T08:04:56.952Z"
   },
   {
    "duration": 28,
    "start_time": "2023-03-07T08:04:56.969Z"
   },
   {
    "duration": 85,
    "start_time": "2023-03-07T08:04:57.003Z"
   },
   {
    "duration": 15,
    "start_time": "2023-03-07T08:04:57.090Z"
   },
   {
    "duration": 56,
    "start_time": "2023-03-07T08:04:57.107Z"
   },
   {
    "duration": 32,
    "start_time": "2023-03-07T08:04:57.165Z"
   },
   {
    "duration": 24,
    "start_time": "2023-03-07T08:04:57.259Z"
   },
   {
    "duration": 17,
    "start_time": "2023-03-07T08:04:57.287Z"
   },
   {
    "duration": 51,
    "start_time": "2023-03-07T08:04:57.306Z"
   },
   {
    "duration": 90,
    "start_time": "2023-03-07T08:04:57.364Z"
   },
   {
    "duration": 16,
    "start_time": "2023-03-07T08:04:57.466Z"
   },
   {
    "duration": 100,
    "start_time": "2023-03-07T08:04:57.493Z"
   },
   {
    "duration": 47,
    "start_time": "2023-03-07T08:04:57.655Z"
   },
   {
    "duration": 12,
    "start_time": "2023-03-07T08:04:57.756Z"
   },
   {
    "duration": 194,
    "start_time": "2023-03-07T08:04:57.773Z"
   },
   {
    "duration": 9955,
    "start_time": "2023-03-08T08:32:22.109Z"
   },
   {
    "duration": 4,
    "start_time": "2023-03-08T08:32:32.066Z"
   },
   {
    "duration": 20,
    "start_time": "2023-03-08T08:32:32.072Z"
   },
   {
    "duration": 23,
    "start_time": "2023-03-08T08:32:32.094Z"
   },
   {
    "duration": 30,
    "start_time": "2023-03-08T08:32:32.119Z"
   },
   {
    "duration": 144,
    "start_time": "2023-03-08T08:32:32.150Z"
   },
   {
    "duration": 3127,
    "start_time": "2023-03-08T08:32:32.296Z"
   },
   {
    "duration": 16,
    "start_time": "2023-03-08T08:32:35.425Z"
   },
   {
    "duration": 59,
    "start_time": "2023-03-08T08:32:35.443Z"
   },
   {
    "duration": 76,
    "start_time": "2023-03-08T08:32:35.505Z"
   },
   {
    "duration": 75,
    "start_time": "2023-03-08T08:32:35.582Z"
   },
   {
    "duration": 71,
    "start_time": "2023-03-08T08:32:35.659Z"
   },
   {
    "duration": 134,
    "start_time": "2023-03-08T08:32:35.732Z"
   },
   {
    "duration": 242,
    "start_time": "2023-03-08T08:32:35.868Z"
   },
   {
    "duration": 8,
    "start_time": "2023-03-08T08:32:36.112Z"
   },
   {
    "duration": 123,
    "start_time": "2023-03-08T08:32:36.121Z"
   },
   {
    "duration": 103,
    "start_time": "2023-03-08T08:32:36.246Z"
   },
   {
    "duration": 62,
    "start_time": "2023-03-08T08:32:36.351Z"
   },
   {
    "duration": 45,
    "start_time": "2023-03-08T08:32:36.415Z"
   },
   {
    "duration": 87,
    "start_time": "2023-03-08T08:32:36.462Z"
   },
   {
    "duration": 26,
    "start_time": "2023-03-08T08:32:36.552Z"
   },
   {
    "duration": 24,
    "start_time": "2023-03-08T08:32:36.580Z"
   },
   {
    "duration": 38,
    "start_time": "2023-03-08T08:32:36.606Z"
   },
   {
    "duration": 5,
    "start_time": "2023-03-08T08:32:36.646Z"
   },
   {
    "duration": 100,
    "start_time": "2023-03-08T08:32:36.652Z"
   },
   {
    "duration": 14,
    "start_time": "2023-03-08T08:32:36.754Z"
   },
   {
    "duration": 20,
    "start_time": "2023-03-08T08:32:36.770Z"
   },
   {
    "duration": 13,
    "start_time": "2023-03-08T08:32:36.841Z"
   },
   {
    "duration": 101,
    "start_time": "2023-03-08T08:32:36.943Z"
   },
   {
    "duration": 17,
    "start_time": "2023-03-08T08:32:37.046Z"
   },
   {
    "duration": 25,
    "start_time": "2023-03-08T08:32:37.065Z"
   },
   {
    "duration": 9,
    "start_time": "2023-03-08T08:32:37.091Z"
   },
   {
    "duration": 103,
    "start_time": "2023-03-08T08:32:37.142Z"
   },
   {
    "duration": 5,
    "start_time": "2023-03-08T08:32:37.247Z"
   },
   {
    "duration": 101,
    "start_time": "2023-03-08T08:32:37.254Z"
   },
   {
    "duration": 100,
    "start_time": "2023-03-08T08:32:37.358Z"
   },
   {
    "duration": 5,
    "start_time": "2023-03-08T08:32:37.542Z"
   },
   {
    "duration": 292,
    "start_time": "2023-03-08T08:32:37.551Z"
   },
   {
    "duration": 1231,
    "start_time": "2023-03-08T08:33:38.453Z"
   },
   {
    "duration": 3,
    "start_time": "2023-03-08T08:33:39.686Z"
   },
   {
    "duration": 5,
    "start_time": "2023-03-08T08:33:39.690Z"
   },
   {
    "duration": 9,
    "start_time": "2023-03-08T08:33:39.696Z"
   },
   {
    "duration": 7,
    "start_time": "2023-03-08T08:33:39.707Z"
   },
   {
    "duration": 73,
    "start_time": "2023-03-08T08:33:39.715Z"
   },
   {
    "duration": 3319,
    "start_time": "2023-03-08T08:33:39.790Z"
   },
   {
    "duration": 8,
    "start_time": "2023-03-08T08:33:43.112Z"
   },
   {
    "duration": 38,
    "start_time": "2023-03-08T08:33:43.122Z"
   },
   {
    "duration": 10,
    "start_time": "2023-03-08T08:33:43.163Z"
   },
   {
    "duration": 20,
    "start_time": "2023-03-08T08:33:43.175Z"
   },
   {
    "duration": 10,
    "start_time": "2023-03-08T08:33:43.196Z"
   },
   {
    "duration": 14,
    "start_time": "2023-03-08T08:33:43.208Z"
   },
   {
    "duration": 10,
    "start_time": "2023-03-08T08:33:43.224Z"
   },
   {
    "duration": 7,
    "start_time": "2023-03-08T08:33:43.236Z"
   },
   {
    "duration": 8,
    "start_time": "2023-03-08T08:33:43.244Z"
   },
   {
    "duration": 17,
    "start_time": "2023-03-08T08:33:43.254Z"
   },
   {
    "duration": 8,
    "start_time": "2023-03-08T08:33:43.272Z"
   },
   {
    "duration": 19,
    "start_time": "2023-03-08T08:33:43.282Z"
   },
   {
    "duration": 27,
    "start_time": "2023-03-08T08:33:43.303Z"
   },
   {
    "duration": 10,
    "start_time": "2023-03-08T08:33:43.332Z"
   },
   {
    "duration": 11,
    "start_time": "2023-03-08T08:33:43.343Z"
   },
   {
    "duration": 88,
    "start_time": "2023-03-08T08:33:43.355Z"
   },
   {
    "duration": 7,
    "start_time": "2023-03-08T08:33:43.444Z"
   },
   {
    "duration": 7,
    "start_time": "2023-03-08T08:33:43.541Z"
   },
   {
    "duration": 11,
    "start_time": "2023-03-08T08:33:43.550Z"
   },
   {
    "duration": 12,
    "start_time": "2023-03-08T08:33:43.562Z"
   },
   {
    "duration": 64,
    "start_time": "2023-03-08T08:33:43.578Z"
   },
   {
    "duration": 101,
    "start_time": "2023-03-08T08:33:43.644Z"
   },
   {
    "duration": 9,
    "start_time": "2023-03-08T08:33:43.747Z"
   },
   {
    "duration": 10,
    "start_time": "2023-03-08T08:33:43.758Z"
   },
   {
    "duration": 80,
    "start_time": "2023-03-08T08:33:43.770Z"
   },
   {
    "duration": 95,
    "start_time": "2023-03-08T08:33:43.852Z"
   },
   {
    "duration": 93,
    "start_time": "2023-03-08T08:33:43.949Z"
   },
   {
    "duration": 10,
    "start_time": "2023-03-08T08:33:44.044Z"
   },
   {
    "duration": 99,
    "start_time": "2023-03-08T08:33:44.142Z"
   },
   {
    "duration": 97,
    "start_time": "2023-03-08T08:33:44.244Z"
   },
   {
    "duration": 105,
    "start_time": "2023-03-08T08:33:44.343Z"
   },
   {
    "duration": 38,
    "start_time": "2023-03-08T08:38:51.510Z"
   },
   {
    "duration": 111,
    "start_time": "2023-03-08T08:40:18.307Z"
   },
   {
    "duration": 45,
    "start_time": "2023-03-08T08:42:13.996Z"
   },
   {
    "duration": 3,
    "start_time": "2023-03-08T08:43:52.133Z"
   },
   {
    "duration": 9,
    "start_time": "2023-03-08T08:43:57.354Z"
   },
   {
    "duration": 6,
    "start_time": "2023-03-08T08:43:57.371Z"
   },
   {
    "duration": 7,
    "start_time": "2023-03-08T08:43:57.378Z"
   },
   {
    "duration": 9,
    "start_time": "2023-03-08T08:43:57.386Z"
   },
   {
    "duration": 10,
    "start_time": "2023-03-08T08:43:57.397Z"
   },
   {
    "duration": 58,
    "start_time": "2023-03-08T08:43:57.409Z"
   },
   {
    "duration": 2623,
    "start_time": "2023-03-08T08:43:57.469Z"
   },
   {
    "duration": 8,
    "start_time": "2023-03-08T08:44:00.094Z"
   },
   {
    "duration": 11,
    "start_time": "2023-03-08T08:44:00.104Z"
   },
   {
    "duration": 4,
    "start_time": "2023-03-08T08:44:00.116Z"
   },
   {
    "duration": 12,
    "start_time": "2023-03-08T08:44:00.140Z"
   },
   {
    "duration": 26,
    "start_time": "2023-03-08T08:44:00.153Z"
   },
   {
    "duration": 6,
    "start_time": "2023-03-08T08:44:00.181Z"
   },
   {
    "duration": 9,
    "start_time": "2023-03-08T08:44:00.188Z"
   },
   {
    "duration": 8,
    "start_time": "2023-03-08T08:44:00.199Z"
   },
   {
    "duration": 16,
    "start_time": "2023-03-08T08:44:00.208Z"
   },
   {
    "duration": 21,
    "start_time": "2023-03-08T08:44:00.227Z"
   },
   {
    "duration": 8,
    "start_time": "2023-03-08T08:44:00.250Z"
   },
   {
    "duration": 19,
    "start_time": "2023-03-08T08:44:00.260Z"
   },
   {
    "duration": 20,
    "start_time": "2023-03-08T08:44:00.280Z"
   },
   {
    "duration": 21,
    "start_time": "2023-03-08T08:44:00.302Z"
   },
   {
    "duration": 22,
    "start_time": "2023-03-08T08:44:00.325Z"
   },
   {
    "duration": 94,
    "start_time": "2023-03-08T08:44:00.349Z"
   },
   {
    "duration": 107,
    "start_time": "2023-03-08T08:44:00.449Z"
   },
   {
    "duration": 74,
    "start_time": "2023-03-08T08:44:00.557Z"
   },
   {
    "duration": 45,
    "start_time": "2023-03-08T08:44:00.633Z"
   },
   {
    "duration": 50,
    "start_time": "2023-03-08T08:44:00.680Z"
   },
   {
    "duration": 39,
    "start_time": "2023-03-08T08:44:00.731Z"
   },
   {
    "duration": 169,
    "start_time": "2023-03-08T08:44:00.773Z"
   },
   {
    "duration": 10,
    "start_time": "2023-03-08T08:44:00.944Z"
   },
   {
    "duration": 31,
    "start_time": "2023-03-08T08:44:00.955Z"
   },
   {
    "duration": 59,
    "start_time": "2023-03-08T08:44:00.988Z"
   },
   {
    "duration": 98,
    "start_time": "2023-03-08T08:44:01.050Z"
   },
   {
    "duration": 98,
    "start_time": "2023-03-08T08:44:01.150Z"
   },
   {
    "duration": 96,
    "start_time": "2023-03-08T08:44:01.251Z"
   },
   {
    "duration": 198,
    "start_time": "2023-03-08T08:44:01.350Z"
   },
   {
    "duration": 103,
    "start_time": "2023-03-08T08:44:01.640Z"
   },
   {
    "duration": 98,
    "start_time": "2023-03-08T08:44:01.744Z"
   },
   {
    "duration": 45,
    "start_time": "2023-03-08T08:49:29.357Z"
   },
   {
    "duration": 43,
    "start_time": "2023-03-08T08:49:44.562Z"
   },
   {
    "duration": 53,
    "start_time": "2023-03-08T08:53:20.653Z"
   },
   {
    "duration": 1424,
    "start_time": "2023-03-08T16:43:26.877Z"
   },
   {
    "duration": 3,
    "start_time": "2023-03-08T16:43:28.302Z"
   },
   {
    "duration": 4,
    "start_time": "2023-03-08T16:43:28.307Z"
   },
   {
    "duration": 8,
    "start_time": "2023-03-08T16:43:28.313Z"
   },
   {
    "duration": 12,
    "start_time": "2023-03-08T16:43:28.323Z"
   },
   {
    "duration": 54,
    "start_time": "2023-03-08T16:43:28.337Z"
   },
   {
    "duration": 2696,
    "start_time": "2023-03-08T16:43:28.393Z"
   },
   {
    "duration": 9,
    "start_time": "2023-03-08T16:43:31.091Z"
   },
   {
    "duration": 24,
    "start_time": "2023-03-08T16:43:31.101Z"
   },
   {
    "duration": 15,
    "start_time": "2023-03-08T16:43:31.128Z"
   },
   {
    "duration": 52,
    "start_time": "2023-03-08T16:43:31.146Z"
   },
   {
    "duration": 22,
    "start_time": "2023-03-08T16:43:31.200Z"
   },
   {
    "duration": 14,
    "start_time": "2023-03-08T16:43:31.223Z"
   },
   {
    "duration": 35,
    "start_time": "2023-03-08T16:43:31.238Z"
   },
   {
    "duration": 22,
    "start_time": "2023-03-08T16:43:31.275Z"
   },
   {
    "duration": 27,
    "start_time": "2023-03-08T16:43:31.299Z"
   },
   {
    "duration": 34,
    "start_time": "2023-03-08T16:43:31.327Z"
   },
   {
    "duration": 11,
    "start_time": "2023-03-08T16:43:31.362Z"
   },
   {
    "duration": 17,
    "start_time": "2023-03-08T16:43:31.375Z"
   },
   {
    "duration": 28,
    "start_time": "2023-03-08T16:43:31.394Z"
   },
   {
    "duration": 13,
    "start_time": "2023-03-08T16:43:31.424Z"
   },
   {
    "duration": 23,
    "start_time": "2023-03-08T16:43:31.440Z"
   },
   {
    "duration": 26,
    "start_time": "2023-03-08T16:43:31.465Z"
   },
   {
    "duration": 53,
    "start_time": "2023-03-08T16:43:31.495Z"
   },
   {
    "duration": 91,
    "start_time": "2023-03-08T16:43:31.553Z"
   },
   {
    "duration": 32,
    "start_time": "2023-03-08T16:43:31.646Z"
   },
   {
    "duration": 13,
    "start_time": "2023-03-08T16:43:31.680Z"
   },
   {
    "duration": 9,
    "start_time": "2023-03-08T16:43:31.695Z"
   },
   {
    "duration": 136,
    "start_time": "2023-03-08T16:43:31.706Z"
   },
   {
    "duration": 14,
    "start_time": "2023-03-08T16:43:31.844Z"
   },
   {
    "duration": 12,
    "start_time": "2023-03-08T16:43:31.860Z"
   },
   {
    "duration": 70,
    "start_time": "2023-03-08T16:43:31.875Z"
   },
   {
    "duration": 95,
    "start_time": "2023-03-08T16:43:31.947Z"
   },
   {
    "duration": 8,
    "start_time": "2023-03-08T16:43:32.044Z"
   },
   {
    "duration": 93,
    "start_time": "2023-03-08T16:43:32.054Z"
   },
   {
    "duration": 94,
    "start_time": "2023-03-08T16:43:32.150Z"
   },
   {
    "duration": 5,
    "start_time": "2023-03-08T16:43:32.247Z"
   },
   {
    "duration": 100,
    "start_time": "2023-03-08T16:43:32.255Z"
   }
  ],
  "kernelspec": {
   "display_name": "Python 3 (ipykernel)",
   "language": "python",
   "name": "python3"
  },
  "language_info": {
   "codemirror_mode": {
    "name": "ipython",
    "version": 3
   },
   "file_extension": ".py",
   "mimetype": "text/x-python",
   "name": "python",
   "nbconvert_exporter": "python",
   "pygments_lexer": "ipython3",
   "version": "3.9.12"
  },
  "toc": {
   "base_numbering": 1,
   "nav_menu": {},
   "number_sections": true,
   "sideBar": true,
   "skip_h1_title": true,
   "title_cell": "Содержание",
   "title_sidebar": "Contents",
   "toc_cell": true,
   "toc_position": {
    "height": "calc(100% - 180px)",
    "left": "10px",
    "top": "150px",
    "width": "384px"
   },
   "toc_section_display": true,
   "toc_window_display": true
  }
 },
 "nbformat": 4,
 "nbformat_minor": 2
}
